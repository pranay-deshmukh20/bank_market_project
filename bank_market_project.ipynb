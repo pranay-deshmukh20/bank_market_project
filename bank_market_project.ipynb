{
  "nbformat": 4,
  "nbformat_minor": 0,
  "metadata": {
    "colab": {
      "name": "bank_market_project.ipynb",
      "provenance": [],
      "collapsed_sections": []
    },
    "kernelspec": {
      "name": "python3",
      "display_name": "Python 3"
    }
  },
  "cells": [
    {
      "cell_type": "code",
      "metadata": {
        "id": "gn8j99l4BKc5"
      },
      "source": [
        "import pandas as pd\r\n",
        "import numpy as np\r\n",
        "from numpy import array\r\n",
        "import matplotlib.pyplot as plt\r\n",
        "import seaborn as sns \r\n",
        "from datetime import datetime"
      ],
      "execution_count": null,
      "outputs": []
    },
    {
      "cell_type": "code",
      "metadata": {
        "colab": {
          "base_uri": "https://localhost:8080/",
          "height": 215
        },
        "id": "lAbXj08dGM-w",
        "outputId": "bd3d52dd-01d1-4a38-cd10-9f9605b80c5e"
      },
      "source": [
        "df = pd.read_csv(\"/content/bank-marketing (1).csv\")\r\n",
        "df.head()"
      ],
      "execution_count": null,
      "outputs": [
        {
          "output_type": "execute_result",
          "data": {
            "text/html": [
              "<div>\n",
              "<style scoped>\n",
              "    .dataframe tbody tr th:only-of-type {\n",
              "        vertical-align: middle;\n",
              "    }\n",
              "\n",
              "    .dataframe tbody tr th {\n",
              "        vertical-align: top;\n",
              "    }\n",
              "\n",
              "    .dataframe thead th {\n",
              "        text-align: right;\n",
              "    }\n",
              "</style>\n",
              "<table border=\"1\" class=\"dataframe\">\n",
              "  <thead>\n",
              "    <tr style=\"text-align: right;\">\n",
              "      <th></th>\n",
              "      <th>age</th>\n",
              "      <th>job</th>\n",
              "      <th>salary</th>\n",
              "      <th>marital</th>\n",
              "      <th>education</th>\n",
              "      <th>targeted</th>\n",
              "      <th>default</th>\n",
              "      <th>balance</th>\n",
              "      <th>housing</th>\n",
              "      <th>loan</th>\n",
              "      <th>contact</th>\n",
              "      <th>day</th>\n",
              "      <th>month</th>\n",
              "      <th>duration</th>\n",
              "      <th>campaign</th>\n",
              "      <th>pdays</th>\n",
              "      <th>previous</th>\n",
              "      <th>poutcome</th>\n",
              "      <th>response</th>\n",
              "    </tr>\n",
              "  </thead>\n",
              "  <tbody>\n",
              "    <tr>\n",
              "      <th>0</th>\n",
              "      <td>58</td>\n",
              "      <td>management</td>\n",
              "      <td>100000</td>\n",
              "      <td>married</td>\n",
              "      <td>tertiary</td>\n",
              "      <td>yes</td>\n",
              "      <td>no</td>\n",
              "      <td>2143</td>\n",
              "      <td>yes</td>\n",
              "      <td>no</td>\n",
              "      <td>unknown</td>\n",
              "      <td>5</td>\n",
              "      <td>may</td>\n",
              "      <td>261</td>\n",
              "      <td>1</td>\n",
              "      <td>-1</td>\n",
              "      <td>0</td>\n",
              "      <td>unknown</td>\n",
              "      <td>no</td>\n",
              "    </tr>\n",
              "    <tr>\n",
              "      <th>1</th>\n",
              "      <td>44</td>\n",
              "      <td>technician</td>\n",
              "      <td>60000</td>\n",
              "      <td>single</td>\n",
              "      <td>secondary</td>\n",
              "      <td>yes</td>\n",
              "      <td>no</td>\n",
              "      <td>29</td>\n",
              "      <td>yes</td>\n",
              "      <td>no</td>\n",
              "      <td>unknown</td>\n",
              "      <td>5</td>\n",
              "      <td>may</td>\n",
              "      <td>151</td>\n",
              "      <td>1</td>\n",
              "      <td>-1</td>\n",
              "      <td>0</td>\n",
              "      <td>unknown</td>\n",
              "      <td>no</td>\n",
              "    </tr>\n",
              "    <tr>\n",
              "      <th>2</th>\n",
              "      <td>33</td>\n",
              "      <td>entrepreneur</td>\n",
              "      <td>120000</td>\n",
              "      <td>married</td>\n",
              "      <td>secondary</td>\n",
              "      <td>yes</td>\n",
              "      <td>no</td>\n",
              "      <td>2</td>\n",
              "      <td>yes</td>\n",
              "      <td>yes</td>\n",
              "      <td>unknown</td>\n",
              "      <td>5</td>\n",
              "      <td>may</td>\n",
              "      <td>76</td>\n",
              "      <td>1</td>\n",
              "      <td>-1</td>\n",
              "      <td>0</td>\n",
              "      <td>unknown</td>\n",
              "      <td>no</td>\n",
              "    </tr>\n",
              "    <tr>\n",
              "      <th>3</th>\n",
              "      <td>47</td>\n",
              "      <td>blue-collar</td>\n",
              "      <td>20000</td>\n",
              "      <td>married</td>\n",
              "      <td>unknown</td>\n",
              "      <td>no</td>\n",
              "      <td>no</td>\n",
              "      <td>1506</td>\n",
              "      <td>yes</td>\n",
              "      <td>no</td>\n",
              "      <td>unknown</td>\n",
              "      <td>5</td>\n",
              "      <td>may</td>\n",
              "      <td>92</td>\n",
              "      <td>1</td>\n",
              "      <td>-1</td>\n",
              "      <td>0</td>\n",
              "      <td>unknown</td>\n",
              "      <td>no</td>\n",
              "    </tr>\n",
              "    <tr>\n",
              "      <th>4</th>\n",
              "      <td>33</td>\n",
              "      <td>unknown</td>\n",
              "      <td>0</td>\n",
              "      <td>single</td>\n",
              "      <td>unknown</td>\n",
              "      <td>no</td>\n",
              "      <td>no</td>\n",
              "      <td>1</td>\n",
              "      <td>no</td>\n",
              "      <td>no</td>\n",
              "      <td>unknown</td>\n",
              "      <td>5</td>\n",
              "      <td>may</td>\n",
              "      <td>198</td>\n",
              "      <td>1</td>\n",
              "      <td>-1</td>\n",
              "      <td>0</td>\n",
              "      <td>unknown</td>\n",
              "      <td>no</td>\n",
              "    </tr>\n",
              "  </tbody>\n",
              "</table>\n",
              "</div>"
            ],
            "text/plain": [
              "   age           job  salary  marital  ... pdays previous poutcome  response\n",
              "0   58    management  100000  married  ...    -1        0  unknown        no\n",
              "1   44    technician   60000   single  ...    -1        0  unknown        no\n",
              "2   33  entrepreneur  120000  married  ...    -1        0  unknown        no\n",
              "3   47   blue-collar   20000  married  ...    -1        0  unknown        no\n",
              "4   33       unknown       0   single  ...    -1        0  unknown        no\n",
              "\n",
              "[5 rows x 19 columns]"
            ]
          },
          "metadata": {
            "tags": []
          },
          "execution_count": 4
        }
      ]
    },
    {
      "cell_type": "code",
      "metadata": {
        "colab": {
          "base_uri": "https://localhost:8080/"
        },
        "id": "DxNrlKGGSlDW",
        "outputId": "22aa48f6-cf1b-449a-850d-cf3c8c269b43"
      },
      "source": [
        "df.shape"
      ],
      "execution_count": null,
      "outputs": [
        {
          "output_type": "execute_result",
          "data": {
            "text/plain": [
              "(45211, 19)"
            ]
          },
          "metadata": {
            "tags": []
          },
          "execution_count": 5
        }
      ]
    },
    {
      "cell_type": "code",
      "metadata": {
        "colab": {
          "base_uri": "https://localhost:8080/"
        },
        "id": "gjlsDzTiijW6",
        "outputId": "a5da2f46-4c5f-4242-d294-9755d0ced6b7"
      },
      "source": [
        "df.info()"
      ],
      "execution_count": null,
      "outputs": [
        {
          "output_type": "stream",
          "text": [
            "<class 'pandas.core.frame.DataFrame'>\n",
            "RangeIndex: 45211 entries, 0 to 45210\n",
            "Data columns (total 19 columns):\n",
            " #   Column     Non-Null Count  Dtype \n",
            "---  ------     --------------  ----- \n",
            " 0   age        45211 non-null  int64 \n",
            " 1   job        45211 non-null  object\n",
            " 2   salary     45211 non-null  int64 \n",
            " 3   marital    45211 non-null  object\n",
            " 4   education  45211 non-null  object\n",
            " 5   targeted   45211 non-null  object\n",
            " 6   default    45211 non-null  object\n",
            " 7   balance    45211 non-null  int64 \n",
            " 8   housing    45211 non-null  object\n",
            " 9   loan       45211 non-null  object\n",
            " 10  contact    45211 non-null  object\n",
            " 11  day        45211 non-null  int64 \n",
            " 12  month      45211 non-null  object\n",
            " 13  duration   45211 non-null  int64 \n",
            " 14  campaign   45211 non-null  int64 \n",
            " 15  pdays      45211 non-null  int64 \n",
            " 16  previous   45211 non-null  int64 \n",
            " 17  poutcome   45211 non-null  object\n",
            " 18  response   45211 non-null  object\n",
            "dtypes: int64(8), object(11)\n",
            "memory usage: 6.6+ MB\n"
          ],
          "name": "stdout"
        }
      ]
    },
    {
      "cell_type": "code",
      "metadata": {
        "colab": {
          "base_uri": "https://localhost:8080/",
          "height": 284
        },
        "id": "3tduVq2HkhWD",
        "outputId": "d6ce8fa7-76d1-42f7-cc8e-d781f457941d"
      },
      "source": [
        "df.describe()"
      ],
      "execution_count": null,
      "outputs": [
        {
          "output_type": "execute_result",
          "data": {
            "text/html": [
              "<div>\n",
              "<style scoped>\n",
              "    .dataframe tbody tr th:only-of-type {\n",
              "        vertical-align: middle;\n",
              "    }\n",
              "\n",
              "    .dataframe tbody tr th {\n",
              "        vertical-align: top;\n",
              "    }\n",
              "\n",
              "    .dataframe thead th {\n",
              "        text-align: right;\n",
              "    }\n",
              "</style>\n",
              "<table border=\"1\" class=\"dataframe\">\n",
              "  <thead>\n",
              "    <tr style=\"text-align: right;\">\n",
              "      <th></th>\n",
              "      <th>age</th>\n",
              "      <th>salary</th>\n",
              "      <th>balance</th>\n",
              "      <th>day</th>\n",
              "      <th>duration</th>\n",
              "      <th>campaign</th>\n",
              "      <th>pdays</th>\n",
              "      <th>previous</th>\n",
              "    </tr>\n",
              "  </thead>\n",
              "  <tbody>\n",
              "    <tr>\n",
              "      <th>count</th>\n",
              "      <td>45211.000000</td>\n",
              "      <td>45211.000000</td>\n",
              "      <td>45211.000000</td>\n",
              "      <td>45211.000000</td>\n",
              "      <td>45211.000000</td>\n",
              "      <td>45211.000000</td>\n",
              "      <td>45211.000000</td>\n",
              "      <td>45211.000000</td>\n",
              "    </tr>\n",
              "    <tr>\n",
              "      <th>mean</th>\n",
              "      <td>40.936210</td>\n",
              "      <td>57006.171065</td>\n",
              "      <td>1362.272058</td>\n",
              "      <td>15.806419</td>\n",
              "      <td>258.163080</td>\n",
              "      <td>2.763841</td>\n",
              "      <td>40.197828</td>\n",
              "      <td>0.580323</td>\n",
              "    </tr>\n",
              "    <tr>\n",
              "      <th>std</th>\n",
              "      <td>10.618762</td>\n",
              "      <td>32085.718415</td>\n",
              "      <td>3044.765829</td>\n",
              "      <td>8.322476</td>\n",
              "      <td>257.527812</td>\n",
              "      <td>3.098021</td>\n",
              "      <td>100.128746</td>\n",
              "      <td>2.303441</td>\n",
              "    </tr>\n",
              "    <tr>\n",
              "      <th>min</th>\n",
              "      <td>18.000000</td>\n",
              "      <td>0.000000</td>\n",
              "      <td>-8019.000000</td>\n",
              "      <td>1.000000</td>\n",
              "      <td>0.000000</td>\n",
              "      <td>1.000000</td>\n",
              "      <td>-1.000000</td>\n",
              "      <td>0.000000</td>\n",
              "    </tr>\n",
              "    <tr>\n",
              "      <th>25%</th>\n",
              "      <td>33.000000</td>\n",
              "      <td>20000.000000</td>\n",
              "      <td>72.000000</td>\n",
              "      <td>8.000000</td>\n",
              "      <td>103.000000</td>\n",
              "      <td>1.000000</td>\n",
              "      <td>-1.000000</td>\n",
              "      <td>0.000000</td>\n",
              "    </tr>\n",
              "    <tr>\n",
              "      <th>50%</th>\n",
              "      <td>39.000000</td>\n",
              "      <td>60000.000000</td>\n",
              "      <td>448.000000</td>\n",
              "      <td>16.000000</td>\n",
              "      <td>180.000000</td>\n",
              "      <td>2.000000</td>\n",
              "      <td>-1.000000</td>\n",
              "      <td>0.000000</td>\n",
              "    </tr>\n",
              "    <tr>\n",
              "      <th>75%</th>\n",
              "      <td>48.000000</td>\n",
              "      <td>70000.000000</td>\n",
              "      <td>1428.000000</td>\n",
              "      <td>21.000000</td>\n",
              "      <td>319.000000</td>\n",
              "      <td>3.000000</td>\n",
              "      <td>-1.000000</td>\n",
              "      <td>0.000000</td>\n",
              "    </tr>\n",
              "    <tr>\n",
              "      <th>max</th>\n",
              "      <td>95.000000</td>\n",
              "      <td>120000.000000</td>\n",
              "      <td>102127.000000</td>\n",
              "      <td>31.000000</td>\n",
              "      <td>4918.000000</td>\n",
              "      <td>63.000000</td>\n",
              "      <td>871.000000</td>\n",
              "      <td>275.000000</td>\n",
              "    </tr>\n",
              "  </tbody>\n",
              "</table>\n",
              "</div>"
            ],
            "text/plain": [
              "                age         salary  ...         pdays      previous\n",
              "count  45211.000000   45211.000000  ...  45211.000000  45211.000000\n",
              "mean      40.936210   57006.171065  ...     40.197828      0.580323\n",
              "std       10.618762   32085.718415  ...    100.128746      2.303441\n",
              "min       18.000000       0.000000  ...     -1.000000      0.000000\n",
              "25%       33.000000   20000.000000  ...     -1.000000      0.000000\n",
              "50%       39.000000   60000.000000  ...     -1.000000      0.000000\n",
              "75%       48.000000   70000.000000  ...     -1.000000      0.000000\n",
              "max       95.000000  120000.000000  ...    871.000000    275.000000\n",
              "\n",
              "[8 rows x 8 columns]"
            ]
          },
          "metadata": {
            "tags": []
          },
          "execution_count": 6
        }
      ]
    },
    {
      "cell_type": "code",
      "metadata": {
        "colab": {
          "base_uri": "https://localhost:8080/"
        },
        "id": "BSi3U63kktDN",
        "outputId": "e8631491-a96f-4357-9e15-5a18823416f8"
      },
      "source": [
        "df.isnull().sum()"
      ],
      "execution_count": null,
      "outputs": [
        {
          "output_type": "execute_result",
          "data": {
            "text/plain": [
              "age          0\n",
              "job          0\n",
              "salary       0\n",
              "marital      0\n",
              "education    0\n",
              "targeted     0\n",
              "default      0\n",
              "balance      0\n",
              "housing      0\n",
              "loan         0\n",
              "contact      0\n",
              "day          0\n",
              "month        0\n",
              "duration     0\n",
              "campaign     0\n",
              "pdays        0\n",
              "previous     0\n",
              "poutcome     0\n",
              "response     0\n",
              "dtype: int64"
            ]
          },
          "metadata": {
            "tags": []
          },
          "execution_count": 42
        }
      ]
    },
    {
      "cell_type": "code",
      "metadata": {
        "colab": {
          "base_uri": "https://localhost:8080/"
        },
        "id": "nUJQ_Nklk_W0",
        "outputId": "b9354018-22af-4c33-bfc1-7e18c4cc23c4"
      },
      "source": [
        "df['job'].value_counts()"
      ],
      "execution_count": null,
      "outputs": [
        {
          "output_type": "execute_result",
          "data": {
            "text/plain": [
              "blue-collar      9732\n",
              "management       9458\n",
              "technician       7597\n",
              "admin.           5171\n",
              "services         4154\n",
              "retired          2264\n",
              "self-employed    1579\n",
              "entrepreneur     1487\n",
              "unemployed       1303\n",
              "housemaid        1240\n",
              "student           938\n",
              "unknown           288\n",
              "Name: job, dtype: int64"
            ]
          },
          "metadata": {
            "tags": []
          },
          "execution_count": 43
        }
      ]
    },
    {
      "cell_type": "code",
      "metadata": {
        "colab": {
          "base_uri": "https://localhost:8080/",
          "height": 422
        },
        "id": "SC0RIGynmiid",
        "outputId": "769d73cf-caaa-4860-ea29-3906a34f7de2"
      },
      "source": [
        "df.drop(['contact'], axis = 1)"
      ],
      "execution_count": null,
      "outputs": [
        {
          "output_type": "execute_result",
          "data": {
            "text/html": [
              "<div>\n",
              "<style scoped>\n",
              "    .dataframe tbody tr th:only-of-type {\n",
              "        vertical-align: middle;\n",
              "    }\n",
              "\n",
              "    .dataframe tbody tr th {\n",
              "        vertical-align: top;\n",
              "    }\n",
              "\n",
              "    .dataframe thead th {\n",
              "        text-align: right;\n",
              "    }\n",
              "</style>\n",
              "<table border=\"1\" class=\"dataframe\">\n",
              "  <thead>\n",
              "    <tr style=\"text-align: right;\">\n",
              "      <th></th>\n",
              "      <th>age</th>\n",
              "      <th>job</th>\n",
              "      <th>salary</th>\n",
              "      <th>marital</th>\n",
              "      <th>education</th>\n",
              "      <th>targeted</th>\n",
              "      <th>default</th>\n",
              "      <th>balance</th>\n",
              "      <th>housing</th>\n",
              "      <th>loan</th>\n",
              "      <th>day</th>\n",
              "      <th>month</th>\n",
              "      <th>duration</th>\n",
              "      <th>campaign</th>\n",
              "      <th>pdays</th>\n",
              "      <th>previous</th>\n",
              "      <th>poutcome</th>\n",
              "      <th>response</th>\n",
              "    </tr>\n",
              "  </thead>\n",
              "  <tbody>\n",
              "    <tr>\n",
              "      <th>0</th>\n",
              "      <td>58</td>\n",
              "      <td>management</td>\n",
              "      <td>100000</td>\n",
              "      <td>married</td>\n",
              "      <td>tertiary</td>\n",
              "      <td>yes</td>\n",
              "      <td>no</td>\n",
              "      <td>2143</td>\n",
              "      <td>yes</td>\n",
              "      <td>no</td>\n",
              "      <td>5</td>\n",
              "      <td>may</td>\n",
              "      <td>261</td>\n",
              "      <td>1</td>\n",
              "      <td>-1</td>\n",
              "      <td>0</td>\n",
              "      <td>unknown</td>\n",
              "      <td>no</td>\n",
              "    </tr>\n",
              "    <tr>\n",
              "      <th>1</th>\n",
              "      <td>44</td>\n",
              "      <td>technician</td>\n",
              "      <td>60000</td>\n",
              "      <td>single</td>\n",
              "      <td>secondary</td>\n",
              "      <td>yes</td>\n",
              "      <td>no</td>\n",
              "      <td>29</td>\n",
              "      <td>yes</td>\n",
              "      <td>no</td>\n",
              "      <td>5</td>\n",
              "      <td>may</td>\n",
              "      <td>151</td>\n",
              "      <td>1</td>\n",
              "      <td>-1</td>\n",
              "      <td>0</td>\n",
              "      <td>unknown</td>\n",
              "      <td>no</td>\n",
              "    </tr>\n",
              "    <tr>\n",
              "      <th>2</th>\n",
              "      <td>33</td>\n",
              "      <td>entrepreneur</td>\n",
              "      <td>120000</td>\n",
              "      <td>married</td>\n",
              "      <td>secondary</td>\n",
              "      <td>yes</td>\n",
              "      <td>no</td>\n",
              "      <td>2</td>\n",
              "      <td>yes</td>\n",
              "      <td>yes</td>\n",
              "      <td>5</td>\n",
              "      <td>may</td>\n",
              "      <td>76</td>\n",
              "      <td>1</td>\n",
              "      <td>-1</td>\n",
              "      <td>0</td>\n",
              "      <td>unknown</td>\n",
              "      <td>no</td>\n",
              "    </tr>\n",
              "    <tr>\n",
              "      <th>3</th>\n",
              "      <td>47</td>\n",
              "      <td>blue-collar</td>\n",
              "      <td>20000</td>\n",
              "      <td>married</td>\n",
              "      <td>unknown</td>\n",
              "      <td>no</td>\n",
              "      <td>no</td>\n",
              "      <td>1506</td>\n",
              "      <td>yes</td>\n",
              "      <td>no</td>\n",
              "      <td>5</td>\n",
              "      <td>may</td>\n",
              "      <td>92</td>\n",
              "      <td>1</td>\n",
              "      <td>-1</td>\n",
              "      <td>0</td>\n",
              "      <td>unknown</td>\n",
              "      <td>no</td>\n",
              "    </tr>\n",
              "    <tr>\n",
              "      <th>4</th>\n",
              "      <td>33</td>\n",
              "      <td>unknown</td>\n",
              "      <td>0</td>\n",
              "      <td>single</td>\n",
              "      <td>unknown</td>\n",
              "      <td>no</td>\n",
              "      <td>no</td>\n",
              "      <td>1</td>\n",
              "      <td>no</td>\n",
              "      <td>no</td>\n",
              "      <td>5</td>\n",
              "      <td>may</td>\n",
              "      <td>198</td>\n",
              "      <td>1</td>\n",
              "      <td>-1</td>\n",
              "      <td>0</td>\n",
              "      <td>unknown</td>\n",
              "      <td>no</td>\n",
              "    </tr>\n",
              "    <tr>\n",
              "      <th>...</th>\n",
              "      <td>...</td>\n",
              "      <td>...</td>\n",
              "      <td>...</td>\n",
              "      <td>...</td>\n",
              "      <td>...</td>\n",
              "      <td>...</td>\n",
              "      <td>...</td>\n",
              "      <td>...</td>\n",
              "      <td>...</td>\n",
              "      <td>...</td>\n",
              "      <td>...</td>\n",
              "      <td>...</td>\n",
              "      <td>...</td>\n",
              "      <td>...</td>\n",
              "      <td>...</td>\n",
              "      <td>...</td>\n",
              "      <td>...</td>\n",
              "      <td>...</td>\n",
              "    </tr>\n",
              "    <tr>\n",
              "      <th>45206</th>\n",
              "      <td>51</td>\n",
              "      <td>technician</td>\n",
              "      <td>60000</td>\n",
              "      <td>married</td>\n",
              "      <td>tertiary</td>\n",
              "      <td>yes</td>\n",
              "      <td>no</td>\n",
              "      <td>825</td>\n",
              "      <td>no</td>\n",
              "      <td>no</td>\n",
              "      <td>17</td>\n",
              "      <td>nov</td>\n",
              "      <td>977</td>\n",
              "      <td>3</td>\n",
              "      <td>-1</td>\n",
              "      <td>0</td>\n",
              "      <td>unknown</td>\n",
              "      <td>yes</td>\n",
              "    </tr>\n",
              "    <tr>\n",
              "      <th>45207</th>\n",
              "      <td>71</td>\n",
              "      <td>retired</td>\n",
              "      <td>55000</td>\n",
              "      <td>divorced</td>\n",
              "      <td>primary</td>\n",
              "      <td>yes</td>\n",
              "      <td>no</td>\n",
              "      <td>1729</td>\n",
              "      <td>no</td>\n",
              "      <td>no</td>\n",
              "      <td>17</td>\n",
              "      <td>nov</td>\n",
              "      <td>456</td>\n",
              "      <td>2</td>\n",
              "      <td>-1</td>\n",
              "      <td>0</td>\n",
              "      <td>unknown</td>\n",
              "      <td>yes</td>\n",
              "    </tr>\n",
              "    <tr>\n",
              "      <th>45208</th>\n",
              "      <td>72</td>\n",
              "      <td>retired</td>\n",
              "      <td>55000</td>\n",
              "      <td>married</td>\n",
              "      <td>secondary</td>\n",
              "      <td>yes</td>\n",
              "      <td>no</td>\n",
              "      <td>5715</td>\n",
              "      <td>no</td>\n",
              "      <td>no</td>\n",
              "      <td>17</td>\n",
              "      <td>nov</td>\n",
              "      <td>1127</td>\n",
              "      <td>5</td>\n",
              "      <td>184</td>\n",
              "      <td>3</td>\n",
              "      <td>success</td>\n",
              "      <td>yes</td>\n",
              "    </tr>\n",
              "    <tr>\n",
              "      <th>45209</th>\n",
              "      <td>57</td>\n",
              "      <td>blue-collar</td>\n",
              "      <td>20000</td>\n",
              "      <td>married</td>\n",
              "      <td>secondary</td>\n",
              "      <td>yes</td>\n",
              "      <td>no</td>\n",
              "      <td>668</td>\n",
              "      <td>no</td>\n",
              "      <td>no</td>\n",
              "      <td>17</td>\n",
              "      <td>nov</td>\n",
              "      <td>508</td>\n",
              "      <td>4</td>\n",
              "      <td>-1</td>\n",
              "      <td>0</td>\n",
              "      <td>unknown</td>\n",
              "      <td>no</td>\n",
              "    </tr>\n",
              "    <tr>\n",
              "      <th>45210</th>\n",
              "      <td>37</td>\n",
              "      <td>entrepreneur</td>\n",
              "      <td>120000</td>\n",
              "      <td>married</td>\n",
              "      <td>secondary</td>\n",
              "      <td>yes</td>\n",
              "      <td>no</td>\n",
              "      <td>2971</td>\n",
              "      <td>no</td>\n",
              "      <td>no</td>\n",
              "      <td>17</td>\n",
              "      <td>nov</td>\n",
              "      <td>361</td>\n",
              "      <td>2</td>\n",
              "      <td>188</td>\n",
              "      <td>11</td>\n",
              "      <td>other</td>\n",
              "      <td>no</td>\n",
              "    </tr>\n",
              "  </tbody>\n",
              "</table>\n",
              "<p>45211 rows × 18 columns</p>\n",
              "</div>"
            ],
            "text/plain": [
              "       age           job  salary   marital  ... pdays previous poutcome  response\n",
              "0       58    management  100000   married  ...    -1        0  unknown        no\n",
              "1       44    technician   60000    single  ...    -1        0  unknown        no\n",
              "2       33  entrepreneur  120000   married  ...    -1        0  unknown        no\n",
              "3       47   blue-collar   20000   married  ...    -1        0  unknown        no\n",
              "4       33       unknown       0    single  ...    -1        0  unknown        no\n",
              "...    ...           ...     ...       ...  ...   ...      ...      ...       ...\n",
              "45206   51    technician   60000   married  ...    -1        0  unknown       yes\n",
              "45207   71       retired   55000  divorced  ...    -1        0  unknown       yes\n",
              "45208   72       retired   55000   married  ...   184        3  success       yes\n",
              "45209   57   blue-collar   20000   married  ...    -1        0  unknown        no\n",
              "45210   37  entrepreneur  120000   married  ...   188       11    other        no\n",
              "\n",
              "[45211 rows x 18 columns]"
            ]
          },
          "metadata": {
            "tags": []
          },
          "execution_count": 55
        }
      ]
    },
    {
      "cell_type": "code",
      "metadata": {
        "colab": {
          "base_uri": "https://localhost:8080/"
        },
        "id": "mThSxx2llL5g",
        "outputId": "2328cda7-ff96-4087-9a7b-602370c68228"
      },
      "source": [
        "df['marital'].value_counts()"
      ],
      "execution_count": null,
      "outputs": [
        {
          "output_type": "execute_result",
          "data": {
            "text/plain": [
              "married     27214\n",
              "single      12790\n",
              "divorced     5207\n",
              "Name: marital, dtype: int64"
            ]
          },
          "metadata": {
            "tags": []
          },
          "execution_count": 44
        }
      ]
    },
    {
      "cell_type": "code",
      "metadata": {
        "colab": {
          "base_uri": "https://localhost:8080/"
        },
        "id": "hdSNoLJllOqR",
        "outputId": "673f857a-72a7-4eeb-bbd3-2a4d8e37c7cf"
      },
      "source": [
        "df['education'].value_counts()"
      ],
      "execution_count": null,
      "outputs": [
        {
          "output_type": "execute_result",
          "data": {
            "text/plain": [
              "secondary    23202\n",
              "tertiary     13301\n",
              "primary       6851\n",
              "unknown       1857\n",
              "Name: education, dtype: int64"
            ]
          },
          "metadata": {
            "tags": []
          },
          "execution_count": 45
        }
      ]
    },
    {
      "cell_type": "code",
      "metadata": {
        "colab": {
          "base_uri": "https://localhost:8080/"
        },
        "id": "cwcmyK12lRpI",
        "outputId": "8ea8a1b4-5cf5-4e09-9c28-ce21a6741287"
      },
      "source": [
        "df['targeted'].value_counts()"
      ],
      "execution_count": null,
      "outputs": [
        {
          "output_type": "execute_result",
          "data": {
            "text/plain": [
              "yes    37091\n",
              "no      8120\n",
              "Name: targeted, dtype: int64"
            ]
          },
          "metadata": {
            "tags": []
          },
          "execution_count": 46
        }
      ]
    },
    {
      "cell_type": "code",
      "metadata": {
        "colab": {
          "base_uri": "https://localhost:8080/"
        },
        "id": "YwidHjBHlUmd",
        "outputId": "43398500-1912-4fbe-9d7a-37049d218546"
      },
      "source": [
        "df['default'].value_counts()"
      ],
      "execution_count": null,
      "outputs": [
        {
          "output_type": "execute_result",
          "data": {
            "text/plain": [
              "no     44396\n",
              "yes      815\n",
              "Name: default, dtype: int64"
            ]
          },
          "metadata": {
            "tags": []
          },
          "execution_count": 47
        }
      ]
    },
    {
      "cell_type": "code",
      "metadata": {
        "colab": {
          "base_uri": "https://localhost:8080/"
        },
        "id": "opvCvJo5lXmt",
        "outputId": "037f340d-c718-4c37-83e8-3bd9f1be0a53"
      },
      "source": [
        "df['housing'].value_counts()"
      ],
      "execution_count": null,
      "outputs": [
        {
          "output_type": "execute_result",
          "data": {
            "text/plain": [
              "yes    25130\n",
              "no     20081\n",
              "Name: housing, dtype: int64"
            ]
          },
          "metadata": {
            "tags": []
          },
          "execution_count": 48
        }
      ]
    },
    {
      "cell_type": "code",
      "metadata": {
        "colab": {
          "base_uri": "https://localhost:8080/"
        },
        "id": "rJn16a2UlaE3",
        "outputId": "4a007c59-154e-4bf8-8e01-e3227bdce30f"
      },
      "source": [
        "df['loan'].value_counts()"
      ],
      "execution_count": null,
      "outputs": [
        {
          "output_type": "execute_result",
          "data": {
            "text/plain": [
              "no     37967\n",
              "yes     7244\n",
              "Name: loan, dtype: int64"
            ]
          },
          "metadata": {
            "tags": []
          },
          "execution_count": 49
        }
      ]
    },
    {
      "cell_type": "code",
      "metadata": {
        "colab": {
          "base_uri": "https://localhost:8080/"
        },
        "id": "cJap2noHlctG",
        "outputId": "23ef5aaa-1102-4b87-8b6b-e22807d393f0"
      },
      "source": [
        "df['contact'].value_counts()"
      ],
      "execution_count": null,
      "outputs": [
        {
          "output_type": "execute_result",
          "data": {
            "text/plain": [
              "cellular     29285\n",
              "unknown      13020\n",
              "telephone     2906\n",
              "Name: contact, dtype: int64"
            ]
          },
          "metadata": {
            "tags": []
          },
          "execution_count": 50
        }
      ]
    },
    {
      "cell_type": "code",
      "metadata": {
        "colab": {
          "base_uri": "https://localhost:8080/"
        },
        "id": "eov1A7Z5lfwC",
        "outputId": "5520e723-cb8b-48c3-bdab-654e050b999d"
      },
      "source": [
        "\r\n",
        "df['month'].value_counts()\r\n",
        "\r\n"
      ],
      "execution_count": null,
      "outputs": [
        {
          "output_type": "execute_result",
          "data": {
            "text/plain": [
              "may    13766\n",
              "jul     6895\n",
              "aug     6247\n",
              "jun     5341\n",
              "nov     3970\n",
              "apr     2932\n",
              "feb     2649\n",
              "jan     1403\n",
              "oct      738\n",
              "sep      579\n",
              "mar      477\n",
              "dec      214\n",
              "Name: month, dtype: int64"
            ]
          },
          "metadata": {
            "tags": []
          },
          "execution_count": 51
        }
      ]
    },
    {
      "cell_type": "code",
      "metadata": {
        "colab": {
          "base_uri": "https://localhost:8080/"
        },
        "id": "6GK95prqlim-",
        "outputId": "d0bf0da9-2d65-482b-c663-82be78d666f3"
      },
      "source": [
        "df['poutcome'].value_counts()"
      ],
      "execution_count": null,
      "outputs": [
        {
          "output_type": "execute_result",
          "data": {
            "text/plain": [
              "unknown    36959\n",
              "failure     4901\n",
              "other       1840\n",
              "success     1511\n",
              "Name: poutcome, dtype: int64"
            ]
          },
          "metadata": {
            "tags": []
          },
          "execution_count": 52
        }
      ]
    },
    {
      "cell_type": "code",
      "metadata": {
        "colab": {
          "base_uri": "https://localhost:8080/"
        },
        "id": "GkODzIURlmBE",
        "outputId": "a97c81c0-77ef-4bb3-b81d-368c9a3ea987"
      },
      "source": [
        "df['response'].value_counts()"
      ],
      "execution_count": null,
      "outputs": [
        {
          "output_type": "execute_result",
          "data": {
            "text/plain": [
              "no     39922\n",
              "yes     5289\n",
              "Name: response, dtype: int64"
            ]
          },
          "metadata": {
            "tags": []
          },
          "execution_count": 53
        }
      ]
    },
    {
      "cell_type": "code",
      "metadata": {
        "colab": {
          "base_uri": "https://localhost:8080/"
        },
        "id": "ffpMePcMlqbi",
        "outputId": "ceeeaf59-2a23-4769-b523-8301cfcc4c0d"
      },
      "source": [
        "df['pdays'].value_counts()"
      ],
      "execution_count": null,
      "outputs": [
        {
          "output_type": "execute_result",
          "data": {
            "text/plain": [
              "-1      36954\n",
              " 182      167\n",
              " 92       147\n",
              " 183      126\n",
              " 91       126\n",
              "        ...  \n",
              " 749        1\n",
              " 717        1\n",
              " 589        1\n",
              " 493        1\n",
              " 32         1\n",
              "Name: pdays, Length: 559, dtype: int64"
            ]
          },
          "metadata": {
            "tags": []
          },
          "execution_count": 54
        }
      ]
    },
    {
      "cell_type": "code",
      "metadata": {
        "colab": {
          "base_uri": "https://localhost:8080/"
        },
        "id": "TzG30-pyltau",
        "outputId": "c36842b9-4ce1-4aa4-e6a0-60b9c4095254"
      },
      "source": [
        "#Describe the pdays column, make note of the mean, median and minimum values. Anything fishy in the values?\r\n",
        "\r\n",
        "df['pdays'].describe()"
      ],
      "execution_count": null,
      "outputs": [
        {
          "output_type": "execute_result",
          "data": {
            "text/plain": [
              "count    45211.000000\n",
              "mean        40.197828\n",
              "std        100.128746\n",
              "min         -1.000000\n",
              "25%         -1.000000\n",
              "50%         -1.000000\n",
              "75%         -1.000000\n",
              "max        871.000000\n",
              "Name: pdays, dtype: float64"
            ]
          },
          "metadata": {
            "tags": []
          },
          "execution_count": 56
        }
      ]
    },
    {
      "cell_type": "markdown",
      "metadata": {
        "id": "Q81sT8y1sdZc"
      },
      "source": [
        "'''Here, We can see that around 75% values of pdays are -1. That does not conclude that the previous campaign was made for them or not.\r\n",
        " To get the customers who did have campaign earlier we must remove all the cases of -1.'''"
      ]
    },
    {
      "cell_type": "code",
      "metadata": {
        "id": "zuNlrZbspohj"
      },
      "source": [
        "#Describe the pdays column again, this time limiting yourself to the relevant values of pdays. How different are the mean and the median values?\r\n",
        " \r\n",
        "df.drop(df[df['pdays'] < 0].index, inplace = True)"
      ],
      "execution_count": null,
      "outputs": []
    },
    {
      "cell_type": "code",
      "metadata": {
        "colab": {
          "base_uri": "https://localhost:8080/"
        },
        "id": "X4rJ5WtAp_-7",
        "outputId": "687d4c00-fc43-4cbb-b92e-8ac41ad239f7"
      },
      "source": [
        "df['pdays'].describe()"
      ],
      "execution_count": null,
      "outputs": [
        {
          "output_type": "execute_result",
          "data": {
            "text/plain": [
              "count    8257.000000\n",
              "mean      224.577692\n",
              "std       115.344035\n",
              "min         1.000000\n",
              "25%       133.000000\n",
              "50%       194.000000\n",
              "75%       327.000000\n",
              "max       871.000000\n",
              "Name: pdays, dtype: float64"
            ]
          },
          "metadata": {
            "tags": []
          },
          "execution_count": 18
        }
      ]
    },
    {
      "cell_type": "markdown",
      "metadata": {
        "id": "ZLArZfnGs9Ti"
      },
      "source": [
        "'''Now the numerical data looks normal as we have removed the customers who didn't have campaign earlier.'''\r\n"
      ]
    },
    {
      "cell_type": "code",
      "metadata": {
        "colab": {
          "base_uri": "https://localhost:8080/",
          "height": 321
        },
        "id": "twqzfAX5vg_z",
        "outputId": "f12f5411-acfc-42c6-a180-3b41a1e00a8d"
      },
      "source": [
        "#Plot a horizontal bar graph with the median values of balance for each education level value. Which group has the highest median?\r\n",
        "\r\n",
        "plt=df.groupby(['education'])['balance'].median().plot.bar()"
      ],
      "execution_count": null,
      "outputs": [
        {
          "output_type": "display_data",
          "data": {
            "image/png": "[encoded data removed]",
            "text/plain": [
              "<Figure size 432x288 with 1 Axes>"
            ]
          },
          "metadata": {
            "tags": [],
            "needs_background": "light"
          }
        }
      ]
    },
    {
      "cell_type": "code",
      "metadata": {
        "colab": {
          "base_uri": "https://localhost:8080/",
          "height": 282
        },
        "id": "rolclbaS6AaO",
        "outputId": "13a21f37-57d8-4e24-8ffd-bd7055d93de5"
      },
      "source": [
        " # Make a box plot for pdays. Do you see any outliers? \r\n",
        "\r\n",
        " df.boxplot('pdays')"
      ],
      "execution_count": null,
      "outputs": [
        {
          "output_type": "execute_result",
          "data": {
            "text/plain": [
              "<matplotlib.axes._subplots.AxesSubplot at 0x7fc8f8d0cfd0>"
            ]
          },
          "metadata": {
            "tags": []
          },
          "execution_count": 20
        },
        {
          "output_type": "display_data",
          "data": {
            "image/png": "[encoded data removed]",
            "text/plain": [
              "<Figure size 432x288 with 1 Axes>"
            ]
          },
          "metadata": {
            "tags": [],
            "needs_background": "light"
          }
        }
      ]
    },
    {
      "cell_type": "code",
      "metadata": {
        "id": "uui2Rbxa6cgJ"
      },
      "source": [
        "# The final goal is to make a predictive model to predict if the customer will respond positively to the campaign or not. The target variable is “response”\r\n",
        "\r\n",
        " # bi-variate analysis.\r\n",
        " "
      ],
      "execution_count": null,
      "outputs": []
    },
    {
      "cell_type": "code",
      "metadata": {
        "colab": {
          "base_uri": "https://localhost:8080/"
        },
        "id": "Ulmf08rG7rh-",
        "outputId": "934ec608-6eb9-4f90-d65a-40da6db61cb7"
      },
      "source": [
        "df['response'].describe()"
      ],
      "execution_count": null,
      "outputs": [
        {
          "output_type": "execute_result",
          "data": {
            "text/plain": [
              "count     8257\n",
              "unique       2\n",
              "top         no\n",
              "freq      6352\n",
              "Name: response, dtype: object"
            ]
          },
          "metadata": {
            "tags": []
          },
          "execution_count": 21
        }
      ]
    },
    {
      "cell_type": "code",
      "metadata": {
        "colab": {
          "base_uri": "https://localhost:8080/"
        },
        "id": "9m22R6YG7vaP",
        "outputId": "66494550-26a6-471b-a3cc-aeb6d6433331"
      },
      "source": [
        "df.response.value_counts()"
      ],
      "execution_count": null,
      "outputs": [
        {
          "output_type": "execute_result",
          "data": {
            "text/plain": [
              "no     6352\n",
              "yes    1905\n",
              "Name: response, dtype: int64"
            ]
          },
          "metadata": {
            "tags": []
          },
          "execution_count": 22
        }
      ]
    },
    {
      "cell_type": "code",
      "metadata": {
        "id": "t5lVwyrp7ydM"
      },
      "source": [
        "# Convert the response variable to a convenient form.\r\n",
        "\r\n",
        "df.replace({'response': {\"yes\": 1,'no':0}},inplace=True)"
      ],
      "execution_count": null,
      "outputs": []
    },
    {
      "cell_type": "code",
      "metadata": {
        "colab": {
          "base_uri": "https://localhost:8080/"
        },
        "id": "z4PvtpXq7_aT",
        "outputId": "53c52bec-5135-4930-a08b-44c464d24c47"
      },
      "source": [
        "df.response.value_counts()"
      ],
      "execution_count": null,
      "outputs": [
        {
          "output_type": "execute_result",
          "data": {
            "text/plain": [
              "0    6352\n",
              "1    1905\n",
              "Name: response, dtype: int64"
            ]
          },
          "metadata": {
            "tags": []
          },
          "execution_count": 24
        }
      ]
    },
    {
      "cell_type": "code",
      "metadata": {
        "id": "ROCiwgyDViVk"
      },
      "source": [
        "obj = []\r\n",
        "num = []\r\n",
        "for col in df.columns:\r\n",
        "    if df[col].dtype=='O':\r\n",
        "        obj.append(col)\r\n",
        "    else:\r\n",
        "        num.append(col)"
      ],
      "execution_count": null,
      "outputs": []
    },
    {
      "cell_type": "code",
      "metadata": {
        "colab": {
          "base_uri": "https://localhost:8080/"
        },
        "id": "-9hYcGlF9UBq",
        "outputId": "54006bfd-fdc3-4cbb-a223-964efbae376a"
      },
      "source": [
        "# Make suitable plots for associations with numerical features and categorical features.\r\n",
        "\r\n",
        "print(\"Object data type features \",obj)\r\n",
        "print(\"Numerical data type features \",num)"
      ],
      "execution_count": null,
      "outputs": [
        {
          "output_type": "stream",
          "text": [
            "Object data type features  ['job', 'marital', 'education', 'targeted', 'default', 'housing', 'loan', 'contact', 'month', 'poutcome']\n",
            "Numerical data type features  ['age', 'salary', 'balance', 'day', 'duration', 'campaign', 'pdays', 'previous', 'response']\n"
          ],
          "name": "stdout"
        }
      ]
    },
    {
      "cell_type": "code",
      "metadata": {
        "colab": {
          "base_uri": "https://localhost:8080/",
          "height": 314
        },
        "id": "9IH9KwQ0-djb",
        "outputId": "6ae3cbc4-be78-4f60-d15f-f6bd27300a33"
      },
      "source": [
        "df.corr()"
      ],
      "execution_count": null,
      "outputs": [
        {
          "output_type": "execute_result",
          "data": {
            "text/html": [
              "<div>\n",
              "<style scoped>\n",
              "    .dataframe tbody tr th:only-of-type {\n",
              "        vertical-align: middle;\n",
              "    }\n",
              "\n",
              "    .dataframe tbody tr th {\n",
              "        vertical-align: top;\n",
              "    }\n",
              "\n",
              "    .dataframe thead th {\n",
              "        text-align: right;\n",
              "    }\n",
              "</style>\n",
              "<table border=\"1\" class=\"dataframe\">\n",
              "  <thead>\n",
              "    <tr style=\"text-align: right;\">\n",
              "      <th></th>\n",
              "      <th>age</th>\n",
              "      <th>salary</th>\n",
              "      <th>balance</th>\n",
              "      <th>day</th>\n",
              "      <th>duration</th>\n",
              "      <th>campaign</th>\n",
              "      <th>pdays</th>\n",
              "      <th>previous</th>\n",
              "      <th>response</th>\n",
              "    </tr>\n",
              "  </thead>\n",
              "  <tbody>\n",
              "    <tr>\n",
              "      <th>age</th>\n",
              "      <td>1.000000</td>\n",
              "      <td>0.058322</td>\n",
              "      <td>0.115480</td>\n",
              "      <td>0.018399</td>\n",
              "      <td>0.060519</td>\n",
              "      <td>0.003842</td>\n",
              "      <td>-0.107863</td>\n",
              "      <td>0.002280</td>\n",
              "      <td>0.072577</td>\n",
              "    </tr>\n",
              "    <tr>\n",
              "      <th>salary</th>\n",
              "      <td>0.058322</td>\n",
              "      <td>1.000000</td>\n",
              "      <td>0.066079</td>\n",
              "      <td>0.002379</td>\n",
              "      <td>0.005734</td>\n",
              "      <td>-0.018559</td>\n",
              "      <td>-0.106134</td>\n",
              "      <td>0.028427</td>\n",
              "      <td>0.036774</td>\n",
              "    </tr>\n",
              "    <tr>\n",
              "      <th>balance</th>\n",
              "      <td>0.115480</td>\n",
              "      <td>0.066079</td>\n",
              "      <td>1.000000</td>\n",
              "      <td>0.051732</td>\n",
              "      <td>0.040998</td>\n",
              "      <td>-0.008150</td>\n",
              "      <td>-0.108122</td>\n",
              "      <td>0.001570</td>\n",
              "      <td>0.076995</td>\n",
              "    </tr>\n",
              "    <tr>\n",
              "      <th>day</th>\n",
              "      <td>0.018399</td>\n",
              "      <td>0.002379</td>\n",
              "      <td>0.051732</td>\n",
              "      <td>1.000000</td>\n",
              "      <td>-0.012687</td>\n",
              "      <td>-0.029295</td>\n",
              "      <td>-0.090095</td>\n",
              "      <td>-0.016801</td>\n",
              "      <td>0.029952</td>\n",
              "    </tr>\n",
              "    <tr>\n",
              "      <th>duration</th>\n",
              "      <td>0.060519</td>\n",
              "      <td>0.005734</td>\n",
              "      <td>0.040998</td>\n",
              "      <td>-0.012687</td>\n",
              "      <td>1.000000</td>\n",
              "      <td>-0.088394</td>\n",
              "      <td>-0.024407</td>\n",
              "      <td>-0.002150</td>\n",
              "      <td>0.342610</td>\n",
              "    </tr>\n",
              "    <tr>\n",
              "      <th>campaign</th>\n",
              "      <td>0.003842</td>\n",
              "      <td>-0.018559</td>\n",
              "      <td>-0.008150</td>\n",
              "      <td>-0.029295</td>\n",
              "      <td>-0.088394</td>\n",
              "      <td>1.000000</td>\n",
              "      <td>0.050534</td>\n",
              "      <td>0.135523</td>\n",
              "      <td>-0.094110</td>\n",
              "    </tr>\n",
              "    <tr>\n",
              "      <th>pdays</th>\n",
              "      <td>-0.107863</td>\n",
              "      <td>-0.106134</td>\n",
              "      <td>-0.108122</td>\n",
              "      <td>-0.090095</td>\n",
              "      <td>-0.024407</td>\n",
              "      <td>0.050534</td>\n",
              "      <td>1.000000</td>\n",
              "      <td>-0.021885</td>\n",
              "      <td>-0.152206</td>\n",
              "    </tr>\n",
              "    <tr>\n",
              "      <th>previous</th>\n",
              "      <td>0.002280</td>\n",
              "      <td>0.028427</td>\n",
              "      <td>0.001570</td>\n",
              "      <td>-0.016801</td>\n",
              "      <td>-0.002150</td>\n",
              "      <td>0.135523</td>\n",
              "      <td>-0.021885</td>\n",
              "      <td>1.000000</td>\n",
              "      <td>0.008622</td>\n",
              "    </tr>\n",
              "    <tr>\n",
              "      <th>response</th>\n",
              "      <td>0.072577</td>\n",
              "      <td>0.036774</td>\n",
              "      <td>0.076995</td>\n",
              "      <td>0.029952</td>\n",
              "      <td>0.342610</td>\n",
              "      <td>-0.094110</td>\n",
              "      <td>-0.152206</td>\n",
              "      <td>0.008622</td>\n",
              "      <td>1.000000</td>\n",
              "    </tr>\n",
              "  </tbody>\n",
              "</table>\n",
              "</div>"
            ],
            "text/plain": [
              "               age    salary   balance  ...     pdays  previous  response\n",
              "age       1.000000  0.058322  0.115480  ... -0.107863  0.002280  0.072577\n",
              "salary    0.058322  1.000000  0.066079  ... -0.106134  0.028427  0.036774\n",
              "balance   0.115480  0.066079  1.000000  ... -0.108122  0.001570  0.076995\n",
              "day       0.018399  0.002379  0.051732  ... -0.090095 -0.016801  0.029952\n",
              "duration  0.060519  0.005734  0.040998  ... -0.024407 -0.002150  0.342610\n",
              "campaign  0.003842 -0.018559 -0.008150  ...  0.050534  0.135523 -0.094110\n",
              "pdays    -0.107863 -0.106134 -0.108122  ...  1.000000 -0.021885 -0.152206\n",
              "previous  0.002280  0.028427  0.001570  ... -0.021885  1.000000  0.008622\n",
              "response  0.072577  0.036774  0.076995  ... -0.152206  0.008622  1.000000\n",
              "\n",
              "[9 rows x 9 columns]"
            ]
          },
          "metadata": {
            "tags": []
          },
          "execution_count": 27
        }
      ]
    },
    {
      "cell_type": "code",
      "metadata": {
        "colab": {
          "base_uri": "https://localhost:8080/",
          "height": 326
        },
        "id": "WpPsOmWk_bzj",
        "outputId": "8f544f27-b71e-4540-ff40-f390a873e8d7"
      },
      "source": [
        "sns.heatmap(df.corr(),annot=True)"
      ],
      "execution_count": null,
      "outputs": [
        {
          "output_type": "execute_result",
          "data": {
            "text/plain": [
              "<matplotlib.axes._subplots.AxesSubplot at 0x7f36e997e320>"
            ]
          },
          "metadata": {
            "tags": []
          },
          "execution_count": 21
        },
        {
          "output_type": "display_data",
          "data": {
            "image/png": "[encoded data removed]",
            "text/plain": [
              "<Figure size 432x288 with 2 Axes>"
            ]
          },
          "metadata": {
            "tags": [],
            "needs_background": "light"
          }
        }
      ]
    },
    {
      "cell_type": "markdown",
      "metadata": {
        "id": "d4ZQBusytkal"
      },
      "source": [
        "'''We can see that duration variable is highly correlated with response variable'''"
      ]
    },
    {
      "cell_type": "code",
      "metadata": {
        "colab": {
          "base_uri": "https://localhost:8080/",
          "height": 1000
        },
        "id": "XeWdvXETWvYn",
        "outputId": "8e922ec4-e45b-454c-84af-691d2a5651ab"
      },
      "source": [
        "from numpy import median\r\n",
        "for col in obj[1:]:\r\n",
        "    plt = df[[col,'response']].groupby(df[col]).mean().plot(kind='bar',legend = False,)\r\n",
        "    plt.set(xlabel=col,ylabel='Response')\r\n",
        "\r\n"
      ],
      "execution_count": null,
      "outputs": [
        {
          "output_type": "display_data",
          "data": {
            "image/png": "[encoded data removed]",
            "text/plain": [
              "<Figure size 432x288 with 1 Axes>"
            ]
          },
          "metadata": {
            "tags": [],
            "needs_background": "light"
          }
        },
        {
          "output_type": "display_data",
          "data": {
            "image/png": "[encoded data removed]",
            "text/plain": [
              "<Figure size 432x288 with 1 Axes>"
            ]
          },
          "metadata": {
            "tags": [],
            "needs_background": "light"
          }
        },
        {
          "output_type": "display_data",
          "data": {
            "image/png": "[encoded data removed]",
            "text/plain": [
              "<Figure size 432x288 with 1 Axes>"
            ]
          },
          "metadata": {
            "tags": [],
            "needs_background": "light"
          }
        },
        {
          "output_type": "display_data",
          "data": {
            "image/png": "[encoded data removed]",
            "text/plain": [
              "<Figure size 432x288 with 1 Axes>"
            ]
          },
          "metadata": {
            "tags": [],
            "needs_background": "light"
          }
        },
        {
          "output_type": "display_data",
          "data": {
            "image/png": "[encoded data removed]",
            "text/plain": [
              "<Figure size 432x288 with 1 Axes>"
            ]
          },
          "metadata": {
            "tags": [],
            "needs_background": "light"
          }
        },
        {
          "output_type": "display_data",
          "data": {
            "image/png": "[encoded data removed]",
            "text/plain": [
              "<Figure size 432x288 with 1 Axes>"
            ]
          },
          "metadata": {
            "tags": [],
            "needs_background": "light"
          }
        },
        {
          "output_type": "display_data",
          "data": {
            "image/png": "[encoded data removed]",
            "text/plain": [
              "<Figure size 432x288 with 1 Axes>"
            ]
          },
          "metadata": {
            "tags": [],
            "needs_background": "light"
          }
        },
        {
          "output_type": "display_data",
          "data": {
            "image/png": "[encoded data removed]",
            "text/plain": [
              "<Figure size 432x288 with 1 Axes>"
            ]
          },
          "metadata": {
            "tags": [],
            "needs_background": "light"
          }
        },
        {
          "output_type": "display_data",
          "data": {
            "image/png": "[encoded data removed]",
            "text/plain": [
              "<Figure size 432x288 with 1 Axes>"
            ]
          },
          "metadata": {
            "tags": [],
            "needs_background": "light"
          }
        }
      ]
    },
    {
      "cell_type": "code",
      "metadata": {
        "id": "EegMx-5nErbE"
      },
      "source": [
        "from sklearn.preprocessing import LabelEncoder"
      ],
      "execution_count": null,
      "outputs": []
    },
    {
      "cell_type": "code",
      "metadata": {
        "id": "CmKPK1inUpu6"
      },
      "source": [
        "df1 = df[obj].apply(LabelEncoder().fit_transform)"
      ],
      "execution_count": null,
      "outputs": []
    },
    {
      "cell_type": "code",
      "metadata": {
        "colab": {
          "base_uri": "https://localhost:8080/",
          "height": 195
        },
        "id": "l9IFLoweXbsY",
        "outputId": "a4bd115d-7e61-4bfa-9dc7-3d35eb021655"
      },
      "source": [
        "df1.head()"
      ],
      "execution_count": null,
      "outputs": [
        {
          "output_type": "execute_result",
          "data": {
            "text/html": [
              "<div>\n",
              "<style scoped>\n",
              "    .dataframe tbody tr th:only-of-type {\n",
              "        vertical-align: middle;\n",
              "    }\n",
              "\n",
              "    .dataframe tbody tr th {\n",
              "        vertical-align: top;\n",
              "    }\n",
              "\n",
              "    .dataframe thead th {\n",
              "        text-align: right;\n",
              "    }\n",
              "</style>\n",
              "<table border=\"1\" class=\"dataframe\">\n",
              "  <thead>\n",
              "    <tr style=\"text-align: right;\">\n",
              "      <th></th>\n",
              "      <th>job</th>\n",
              "      <th>marital</th>\n",
              "      <th>education</th>\n",
              "      <th>targeted</th>\n",
              "      <th>default</th>\n",
              "      <th>housing</th>\n",
              "      <th>loan</th>\n",
              "      <th>contact</th>\n",
              "      <th>month</th>\n",
              "      <th>poutcome</th>\n",
              "    </tr>\n",
              "  </thead>\n",
              "  <tbody>\n",
              "    <tr>\n",
              "      <th>24060</th>\n",
              "      <td>0</td>\n",
              "      <td>1</td>\n",
              "      <td>2</td>\n",
              "      <td>1</td>\n",
              "      <td>0</td>\n",
              "      <td>0</td>\n",
              "      <td>0</td>\n",
              "      <td>1</td>\n",
              "      <td>10</td>\n",
              "      <td>0</td>\n",
              "    </tr>\n",
              "    <tr>\n",
              "      <th>24062</th>\n",
              "      <td>0</td>\n",
              "      <td>2</td>\n",
              "      <td>1</td>\n",
              "      <td>1</td>\n",
              "      <td>0</td>\n",
              "      <td>1</td>\n",
              "      <td>1</td>\n",
              "      <td>1</td>\n",
              "      <td>10</td>\n",
              "      <td>1</td>\n",
              "    </tr>\n",
              "    <tr>\n",
              "      <th>24064</th>\n",
              "      <td>7</td>\n",
              "      <td>1</td>\n",
              "      <td>1</td>\n",
              "      <td>1</td>\n",
              "      <td>0</td>\n",
              "      <td>1</td>\n",
              "      <td>0</td>\n",
              "      <td>1</td>\n",
              "      <td>10</td>\n",
              "      <td>0</td>\n",
              "    </tr>\n",
              "    <tr>\n",
              "      <th>24072</th>\n",
              "      <td>4</td>\n",
              "      <td>1</td>\n",
              "      <td>2</td>\n",
              "      <td>1</td>\n",
              "      <td>0</td>\n",
              "      <td>1</td>\n",
              "      <td>0</td>\n",
              "      <td>1</td>\n",
              "      <td>10</td>\n",
              "      <td>1</td>\n",
              "    </tr>\n",
              "    <tr>\n",
              "      <th>24077</th>\n",
              "      <td>4</td>\n",
              "      <td>1</td>\n",
              "      <td>2</td>\n",
              "      <td>1</td>\n",
              "      <td>0</td>\n",
              "      <td>1</td>\n",
              "      <td>0</td>\n",
              "      <td>1</td>\n",
              "      <td>10</td>\n",
              "      <td>0</td>\n",
              "    </tr>\n",
              "  </tbody>\n",
              "</table>\n",
              "</div>"
            ],
            "text/plain": [
              "       job  marital  education  targeted  ...  loan  contact  month  poutcome\n",
              "24060    0        1          2         1  ...     0        1     10         0\n",
              "24062    0        2          1         1  ...     1        1     10         1\n",
              "24064    7        1          1         1  ...     0        1     10         0\n",
              "24072    4        1          2         1  ...     0        1     10         1\n",
              "24077    4        1          2         1  ...     0        1     10         0\n",
              "\n",
              "[5 rows x 10 columns]"
            ]
          },
          "metadata": {
            "tags": []
          },
          "execution_count": 36
        }
      ]
    },
    {
      "cell_type": "code",
      "metadata": {
        "colab": {
          "base_uri": "https://localhost:8080/",
          "height": 215
        },
        "id": "J7v9X1QiudNK",
        "outputId": "dfa4fe91-9224-44ad-be72-06018e0078e6"
      },
      "source": [
        "df2 = df1.join(df[num])\r\n",
        "df2.head()"
      ],
      "execution_count": null,
      "outputs": [
        {
          "output_type": "execute_result",
          "data": {
            "text/html": [
              "<div>\n",
              "<style scoped>\n",
              "    .dataframe tbody tr th:only-of-type {\n",
              "        vertical-align: middle;\n",
              "    }\n",
              "\n",
              "    .dataframe tbody tr th {\n",
              "        vertical-align: top;\n",
              "    }\n",
              "\n",
              "    .dataframe thead th {\n",
              "        text-align: right;\n",
              "    }\n",
              "</style>\n",
              "<table border=\"1\" class=\"dataframe\">\n",
              "  <thead>\n",
              "    <tr style=\"text-align: right;\">\n",
              "      <th></th>\n",
              "      <th>job</th>\n",
              "      <th>marital</th>\n",
              "      <th>education</th>\n",
              "      <th>targeted</th>\n",
              "      <th>default</th>\n",
              "      <th>housing</th>\n",
              "      <th>loan</th>\n",
              "      <th>contact</th>\n",
              "      <th>month</th>\n",
              "      <th>poutcome</th>\n",
              "      <th>age</th>\n",
              "      <th>salary</th>\n",
              "      <th>balance</th>\n",
              "      <th>day</th>\n",
              "      <th>duration</th>\n",
              "      <th>campaign</th>\n",
              "      <th>pdays</th>\n",
              "      <th>previous</th>\n",
              "      <th>response</th>\n",
              "    </tr>\n",
              "  </thead>\n",
              "  <tbody>\n",
              "    <tr>\n",
              "      <th>24060</th>\n",
              "      <td>0</td>\n",
              "      <td>1</td>\n",
              "      <td>2</td>\n",
              "      <td>1</td>\n",
              "      <td>0</td>\n",
              "      <td>0</td>\n",
              "      <td>0</td>\n",
              "      <td>1</td>\n",
              "      <td>10</td>\n",
              "      <td>0</td>\n",
              "      <td>33</td>\n",
              "      <td>50000</td>\n",
              "      <td>882</td>\n",
              "      <td>21</td>\n",
              "      <td>39</td>\n",
              "      <td>1</td>\n",
              "      <td>151</td>\n",
              "      <td>3</td>\n",
              "      <td>0</td>\n",
              "    </tr>\n",
              "    <tr>\n",
              "      <th>24062</th>\n",
              "      <td>0</td>\n",
              "      <td>2</td>\n",
              "      <td>1</td>\n",
              "      <td>1</td>\n",
              "      <td>0</td>\n",
              "      <td>1</td>\n",
              "      <td>1</td>\n",
              "      <td>1</td>\n",
              "      <td>10</td>\n",
              "      <td>1</td>\n",
              "      <td>42</td>\n",
              "      <td>50000</td>\n",
              "      <td>-247</td>\n",
              "      <td>21</td>\n",
              "      <td>519</td>\n",
              "      <td>1</td>\n",
              "      <td>166</td>\n",
              "      <td>1</td>\n",
              "      <td>1</td>\n",
              "    </tr>\n",
              "    <tr>\n",
              "      <th>24064</th>\n",
              "      <td>7</td>\n",
              "      <td>1</td>\n",
              "      <td>1</td>\n",
              "      <td>1</td>\n",
              "      <td>0</td>\n",
              "      <td>1</td>\n",
              "      <td>0</td>\n",
              "      <td>1</td>\n",
              "      <td>10</td>\n",
              "      <td>0</td>\n",
              "      <td>33</td>\n",
              "      <td>70000</td>\n",
              "      <td>3444</td>\n",
              "      <td>21</td>\n",
              "      <td>144</td>\n",
              "      <td>1</td>\n",
              "      <td>91</td>\n",
              "      <td>4</td>\n",
              "      <td>1</td>\n",
              "    </tr>\n",
              "    <tr>\n",
              "      <th>24072</th>\n",
              "      <td>4</td>\n",
              "      <td>1</td>\n",
              "      <td>2</td>\n",
              "      <td>1</td>\n",
              "      <td>0</td>\n",
              "      <td>1</td>\n",
              "      <td>0</td>\n",
              "      <td>1</td>\n",
              "      <td>10</td>\n",
              "      <td>1</td>\n",
              "      <td>36</td>\n",
              "      <td>100000</td>\n",
              "      <td>2415</td>\n",
              "      <td>22</td>\n",
              "      <td>73</td>\n",
              "      <td>1</td>\n",
              "      <td>86</td>\n",
              "      <td>4</td>\n",
              "      <td>0</td>\n",
              "    </tr>\n",
              "    <tr>\n",
              "      <th>24077</th>\n",
              "      <td>4</td>\n",
              "      <td>1</td>\n",
              "      <td>2</td>\n",
              "      <td>1</td>\n",
              "      <td>0</td>\n",
              "      <td>1</td>\n",
              "      <td>0</td>\n",
              "      <td>1</td>\n",
              "      <td>10</td>\n",
              "      <td>0</td>\n",
              "      <td>36</td>\n",
              "      <td>100000</td>\n",
              "      <td>0</td>\n",
              "      <td>23</td>\n",
              "      <td>140</td>\n",
              "      <td>1</td>\n",
              "      <td>143</td>\n",
              "      <td>3</td>\n",
              "      <td>1</td>\n",
              "    </tr>\n",
              "  </tbody>\n",
              "</table>\n",
              "</div>"
            ],
            "text/plain": [
              "       job  marital  education  targeted  ...  campaign  pdays  previous  response\n",
              "24060    0        1          2         1  ...         1    151         3         0\n",
              "24062    0        2          1         1  ...         1    166         1         1\n",
              "24064    7        1          1         1  ...         1     91         4         1\n",
              "24072    4        1          2         1  ...         1     86         4         0\n",
              "24077    4        1          2         1  ...         1    143         3         1\n",
              "\n",
              "[5 rows x 19 columns]"
            ]
          },
          "metadata": {
            "tags": []
          },
          "execution_count": 38
        }
      ]
    },
    {
      "cell_type": "code",
      "metadata": {
        "colab": {
          "base_uri": "https://localhost:8080/",
          "height": 630
        },
        "id": "hlGTFiNHXsBd",
        "outputId": "13aa381c-a932-4966-9ee7-cf5c5245ef16"
      },
      "source": [
        "df2.corr()"
      ],
      "execution_count": null,
      "outputs": [
        {
          "output_type": "execute_result",
          "data": {
            "text/html": [
              "<div>\n",
              "<style scoped>\n",
              "    .dataframe tbody tr th:only-of-type {\n",
              "        vertical-align: middle;\n",
              "    }\n",
              "\n",
              "    .dataframe tbody tr th {\n",
              "        vertical-align: top;\n",
              "    }\n",
              "\n",
              "    .dataframe thead th {\n",
              "        text-align: right;\n",
              "    }\n",
              "</style>\n",
              "<table border=\"1\" class=\"dataframe\">\n",
              "  <thead>\n",
              "    <tr style=\"text-align: right;\">\n",
              "      <th></th>\n",
              "      <th>job</th>\n",
              "      <th>marital</th>\n",
              "      <th>education</th>\n",
              "      <th>targeted</th>\n",
              "      <th>default</th>\n",
              "      <th>housing</th>\n",
              "      <th>loan</th>\n",
              "      <th>contact</th>\n",
              "      <th>month</th>\n",
              "      <th>poutcome</th>\n",
              "      <th>age</th>\n",
              "      <th>salary</th>\n",
              "      <th>balance</th>\n",
              "      <th>day</th>\n",
              "      <th>duration</th>\n",
              "      <th>campaign</th>\n",
              "      <th>pdays</th>\n",
              "      <th>previous</th>\n",
              "      <th>response</th>\n",
              "    </tr>\n",
              "  </thead>\n",
              "  <tbody>\n",
              "    <tr>\n",
              "      <th>job</th>\n",
              "      <td>1.000000</td>\n",
              "      <td>0.072746</td>\n",
              "      <td>0.159280</td>\n",
              "      <td>-0.091197</td>\n",
              "      <td>-0.021012</td>\n",
              "      <td>-0.132378</td>\n",
              "      <td>-0.033500</td>\n",
              "      <td>-0.006279</td>\n",
              "      <td>-0.002498</td>\n",
              "      <td>0.066642</td>\n",
              "      <td>-0.020606</td>\n",
              "      <td>0.115271</td>\n",
              "      <td>0.041975</td>\n",
              "      <td>0.013841</td>\n",
              "      <td>0.024449</td>\n",
              "      <td>-0.008764</td>\n",
              "      <td>-0.110505</td>\n",
              "      <td>-0.000266</td>\n",
              "      <td>0.081239</td>\n",
              "    </tr>\n",
              "    <tr>\n",
              "      <th>marital</th>\n",
              "      <td>0.072746</td>\n",
              "      <td>1.000000</td>\n",
              "      <td>0.121688</td>\n",
              "      <td>-0.255247</td>\n",
              "      <td>-0.005632</td>\n",
              "      <td>-0.056963</td>\n",
              "      <td>-0.055435</td>\n",
              "      <td>-0.031866</td>\n",
              "      <td>-0.024130</td>\n",
              "      <td>0.045015</td>\n",
              "      <td>-0.414972</td>\n",
              "      <td>-0.042212</td>\n",
              "      <td>-0.019767</td>\n",
              "      <td>0.016797</td>\n",
              "      <td>-0.009075</td>\n",
              "      <td>-0.008338</td>\n",
              "      <td>-0.011861</td>\n",
              "      <td>0.004536</td>\n",
              "      <td>0.049234</td>\n",
              "    </tr>\n",
              "    <tr>\n",
              "      <th>education</th>\n",
              "      <td>0.159280</td>\n",
              "      <td>0.121688</td>\n",
              "      <td>1.000000</td>\n",
              "      <td>-0.632513</td>\n",
              "      <td>-0.013682</td>\n",
              "      <td>-0.129804</td>\n",
              "      <td>-0.047718</td>\n",
              "      <td>-0.048456</td>\n",
              "      <td>-0.010829</td>\n",
              "      <td>0.082852</td>\n",
              "      <td>-0.119516</td>\n",
              "      <td>0.423157</td>\n",
              "      <td>0.074166</td>\n",
              "      <td>0.023542</td>\n",
              "      <td>-0.001142</td>\n",
              "      <td>-0.024343</td>\n",
              "      <td>-0.140155</td>\n",
              "      <td>0.000115</td>\n",
              "      <td>0.108098</td>\n",
              "    </tr>\n",
              "    <tr>\n",
              "      <th>targeted</th>\n",
              "      <td>-0.091197</td>\n",
              "      <td>-0.255247</td>\n",
              "      <td>-0.632513</td>\n",
              "      <td>1.000000</td>\n",
              "      <td>0.019593</td>\n",
              "      <td>0.087470</td>\n",
              "      <td>0.070420</td>\n",
              "      <td>0.020464</td>\n",
              "      <td>0.010187</td>\n",
              "      <td>-0.071356</td>\n",
              "      <td>0.140750</td>\n",
              "      <td>-0.228338</td>\n",
              "      <td>-0.052007</td>\n",
              "      <td>-0.026179</td>\n",
              "      <td>-0.014729</td>\n",
              "      <td>0.017948</td>\n",
              "      <td>0.075638</td>\n",
              "      <td>-0.001205</td>\n",
              "      <td>-0.091216</td>\n",
              "    </tr>\n",
              "    <tr>\n",
              "      <th>default</th>\n",
              "      <td>-0.021012</td>\n",
              "      <td>-0.005632</td>\n",
              "      <td>-0.013682</td>\n",
              "      <td>0.019593</td>\n",
              "      <td>1.000000</td>\n",
              "      <td>0.022644</td>\n",
              "      <td>0.052261</td>\n",
              "      <td>-0.019834</td>\n",
              "      <td>0.020123</td>\n",
              "      <td>-0.025566</td>\n",
              "      <td>-0.027825</td>\n",
              "      <td>0.000361</td>\n",
              "      <td>-0.045010</td>\n",
              "      <td>-0.001013</td>\n",
              "      <td>-0.002635</td>\n",
              "      <td>-0.002064</td>\n",
              "      <td>0.033760</td>\n",
              "      <td>0.012149</td>\n",
              "      <td>-0.028299</td>\n",
              "    </tr>\n",
              "    <tr>\n",
              "      <th>housing</th>\n",
              "      <td>-0.132378</td>\n",
              "      <td>-0.056963</td>\n",
              "      <td>-0.129804</td>\n",
              "      <td>0.087470</td>\n",
              "      <td>0.022644</td>\n",
              "      <td>1.000000</td>\n",
              "      <td>0.109815</td>\n",
              "      <td>-0.069869</td>\n",
              "      <td>0.014452</td>\n",
              "      <td>-0.284439</td>\n",
              "      <td>-0.179386</td>\n",
              "      <td>-0.035905</td>\n",
              "      <td>-0.109163</td>\n",
              "      <td>-0.066740</td>\n",
              "      <td>-0.072070</td>\n",
              "      <td>0.063071</td>\n",
              "      <td>0.335124</td>\n",
              "      <td>0.008934</td>\n",
              "      <td>-0.317501</td>\n",
              "    </tr>\n",
              "    <tr>\n",
              "      <th>loan</th>\n",
              "      <td>-0.033500</td>\n",
              "      <td>-0.055435</td>\n",
              "      <td>-0.047718</td>\n",
              "      <td>0.070420</td>\n",
              "      <td>0.052261</td>\n",
              "      <td>0.109815</td>\n",
              "      <td>1.000000</td>\n",
              "      <td>-0.020904</td>\n",
              "      <td>0.000524</td>\n",
              "      <td>-0.103154</td>\n",
              "      <td>-0.008330</td>\n",
              "      <td>0.013788</td>\n",
              "      <td>-0.085004</td>\n",
              "      <td>0.007550</td>\n",
              "      <td>-0.033874</td>\n",
              "      <td>0.007444</td>\n",
              "      <td>0.022454</td>\n",
              "      <td>0.016549</td>\n",
              "      <td>-0.115805</td>\n",
              "    </tr>\n",
              "    <tr>\n",
              "      <th>contact</th>\n",
              "      <td>-0.006279</td>\n",
              "      <td>-0.031866</td>\n",
              "      <td>-0.048456</td>\n",
              "      <td>0.020464</td>\n",
              "      <td>-0.019834</td>\n",
              "      <td>-0.069869</td>\n",
              "      <td>-0.020904</td>\n",
              "      <td>1.000000</td>\n",
              "      <td>0.047045</td>\n",
              "      <td>0.024590</td>\n",
              "      <td>0.166384</td>\n",
              "      <td>-0.035805</td>\n",
              "      <td>0.030317</td>\n",
              "      <td>-0.012330</td>\n",
              "      <td>-0.036360</td>\n",
              "      <td>0.063199</td>\n",
              "      <td>0.077235</td>\n",
              "      <td>0.043830</td>\n",
              "      <td>-0.014321</td>\n",
              "    </tr>\n",
              "    <tr>\n",
              "      <th>month</th>\n",
              "      <td>-0.002498</td>\n",
              "      <td>-0.024130</td>\n",
              "      <td>-0.010829</td>\n",
              "      <td>0.010187</td>\n",
              "      <td>0.020123</td>\n",
              "      <td>0.014452</td>\n",
              "      <td>0.000524</td>\n",
              "      <td>0.047045</td>\n",
              "      <td>1.000000</td>\n",
              "      <td>-0.019188</td>\n",
              "      <td>0.013909</td>\n",
              "      <td>0.019820</td>\n",
              "      <td>0.015723</td>\n",
              "      <td>-0.024264</td>\n",
              "      <td>-0.036446</td>\n",
              "      <td>0.023224</td>\n",
              "      <td>0.022529</td>\n",
              "      <td>0.013977</td>\n",
              "      <td>-0.009586</td>\n",
              "    </tr>\n",
              "    <tr>\n",
              "      <th>poutcome</th>\n",
              "      <td>0.066642</td>\n",
              "      <td>0.045015</td>\n",
              "      <td>0.082852</td>\n",
              "      <td>-0.071356</td>\n",
              "      <td>-0.025566</td>\n",
              "      <td>-0.284439</td>\n",
              "      <td>-0.103154</td>\n",
              "      <td>0.024590</td>\n",
              "      <td>-0.019188</td>\n",
              "      <td>1.000000</td>\n",
              "      <td>0.051987</td>\n",
              "      <td>0.013079</td>\n",
              "      <td>0.051464</td>\n",
              "      <td>0.017125</td>\n",
              "      <td>0.108473</td>\n",
              "      <td>-0.000502</td>\n",
              "      <td>-0.235119</td>\n",
              "      <td>0.041607</td>\n",
              "      <td>0.420519</td>\n",
              "    </tr>\n",
              "    <tr>\n",
              "      <th>age</th>\n",
              "      <td>-0.020606</td>\n",
              "      <td>-0.414972</td>\n",
              "      <td>-0.119516</td>\n",
              "      <td>0.140750</td>\n",
              "      <td>-0.027825</td>\n",
              "      <td>-0.179386</td>\n",
              "      <td>-0.008330</td>\n",
              "      <td>0.166384</td>\n",
              "      <td>0.013909</td>\n",
              "      <td>0.051987</td>\n",
              "      <td>1.000000</td>\n",
              "      <td>0.058322</td>\n",
              "      <td>0.115480</td>\n",
              "      <td>0.018399</td>\n",
              "      <td>0.060519</td>\n",
              "      <td>0.003842</td>\n",
              "      <td>-0.107863</td>\n",
              "      <td>0.002280</td>\n",
              "      <td>0.072577</td>\n",
              "    </tr>\n",
              "    <tr>\n",
              "      <th>salary</th>\n",
              "      <td>0.115271</td>\n",
              "      <td>-0.042212</td>\n",
              "      <td>0.423157</td>\n",
              "      <td>-0.228338</td>\n",
              "      <td>0.000361</td>\n",
              "      <td>-0.035905</td>\n",
              "      <td>0.013788</td>\n",
              "      <td>-0.035805</td>\n",
              "      <td>0.019820</td>\n",
              "      <td>0.013079</td>\n",
              "      <td>0.058322</td>\n",
              "      <td>1.000000</td>\n",
              "      <td>0.066079</td>\n",
              "      <td>0.002379</td>\n",
              "      <td>0.005734</td>\n",
              "      <td>-0.018559</td>\n",
              "      <td>-0.106134</td>\n",
              "      <td>0.028427</td>\n",
              "      <td>0.036774</td>\n",
              "    </tr>\n",
              "    <tr>\n",
              "      <th>balance</th>\n",
              "      <td>0.041975</td>\n",
              "      <td>-0.019767</td>\n",
              "      <td>0.074166</td>\n",
              "      <td>-0.052007</td>\n",
              "      <td>-0.045010</td>\n",
              "      <td>-0.109163</td>\n",
              "      <td>-0.085004</td>\n",
              "      <td>0.030317</td>\n",
              "      <td>0.015723</td>\n",
              "      <td>0.051464</td>\n",
              "      <td>0.115480</td>\n",
              "      <td>0.066079</td>\n",
              "      <td>1.000000</td>\n",
              "      <td>0.051732</td>\n",
              "      <td>0.040998</td>\n",
              "      <td>-0.008150</td>\n",
              "      <td>-0.108122</td>\n",
              "      <td>0.001570</td>\n",
              "      <td>0.076995</td>\n",
              "    </tr>\n",
              "    <tr>\n",
              "      <th>day</th>\n",
              "      <td>0.013841</td>\n",
              "      <td>0.016797</td>\n",
              "      <td>0.023542</td>\n",
              "      <td>-0.026179</td>\n",
              "      <td>-0.001013</td>\n",
              "      <td>-0.066740</td>\n",
              "      <td>0.007550</td>\n",
              "      <td>-0.012330</td>\n",
              "      <td>-0.024264</td>\n",
              "      <td>0.017125</td>\n",
              "      <td>0.018399</td>\n",
              "      <td>0.002379</td>\n",
              "      <td>0.051732</td>\n",
              "      <td>1.000000</td>\n",
              "      <td>-0.012687</td>\n",
              "      <td>-0.029295</td>\n",
              "      <td>-0.090095</td>\n",
              "      <td>-0.016801</td>\n",
              "      <td>0.029952</td>\n",
              "    </tr>\n",
              "    <tr>\n",
              "      <th>duration</th>\n",
              "      <td>0.024449</td>\n",
              "      <td>-0.009075</td>\n",
              "      <td>-0.001142</td>\n",
              "      <td>-0.014729</td>\n",
              "      <td>-0.002635</td>\n",
              "      <td>-0.072070</td>\n",
              "      <td>-0.033874</td>\n",
              "      <td>-0.036360</td>\n",
              "      <td>-0.036446</td>\n",
              "      <td>0.108473</td>\n",
              "      <td>0.060519</td>\n",
              "      <td>0.005734</td>\n",
              "      <td>0.040998</td>\n",
              "      <td>-0.012687</td>\n",
              "      <td>1.000000</td>\n",
              "      <td>-0.088394</td>\n",
              "      <td>-0.024407</td>\n",
              "      <td>-0.002150</td>\n",
              "      <td>0.342610</td>\n",
              "    </tr>\n",
              "    <tr>\n",
              "      <th>campaign</th>\n",
              "      <td>-0.008764</td>\n",
              "      <td>-0.008338</td>\n",
              "      <td>-0.024343</td>\n",
              "      <td>0.017948</td>\n",
              "      <td>-0.002064</td>\n",
              "      <td>0.063071</td>\n",
              "      <td>0.007444</td>\n",
              "      <td>0.063199</td>\n",
              "      <td>0.023224</td>\n",
              "      <td>-0.000502</td>\n",
              "      <td>0.003842</td>\n",
              "      <td>-0.018559</td>\n",
              "      <td>-0.008150</td>\n",
              "      <td>-0.029295</td>\n",
              "      <td>-0.088394</td>\n",
              "      <td>1.000000</td>\n",
              "      <td>0.050534</td>\n",
              "      <td>0.135523</td>\n",
              "      <td>-0.094110</td>\n",
              "    </tr>\n",
              "    <tr>\n",
              "      <th>pdays</th>\n",
              "      <td>-0.110505</td>\n",
              "      <td>-0.011861</td>\n",
              "      <td>-0.140155</td>\n",
              "      <td>0.075638</td>\n",
              "      <td>0.033760</td>\n",
              "      <td>0.335124</td>\n",
              "      <td>0.022454</td>\n",
              "      <td>0.077235</td>\n",
              "      <td>0.022529</td>\n",
              "      <td>-0.235119</td>\n",
              "      <td>-0.107863</td>\n",
              "      <td>-0.106134</td>\n",
              "      <td>-0.108122</td>\n",
              "      <td>-0.090095</td>\n",
              "      <td>-0.024407</td>\n",
              "      <td>0.050534</td>\n",
              "      <td>1.000000</td>\n",
              "      <td>-0.021885</td>\n",
              "      <td>-0.152206</td>\n",
              "    </tr>\n",
              "    <tr>\n",
              "      <th>previous</th>\n",
              "      <td>-0.000266</td>\n",
              "      <td>0.004536</td>\n",
              "      <td>0.000115</td>\n",
              "      <td>-0.001205</td>\n",
              "      <td>0.012149</td>\n",
              "      <td>0.008934</td>\n",
              "      <td>0.016549</td>\n",
              "      <td>0.043830</td>\n",
              "      <td>0.013977</td>\n",
              "      <td>0.041607</td>\n",
              "      <td>0.002280</td>\n",
              "      <td>0.028427</td>\n",
              "      <td>0.001570</td>\n",
              "      <td>-0.016801</td>\n",
              "      <td>-0.002150</td>\n",
              "      <td>0.135523</td>\n",
              "      <td>-0.021885</td>\n",
              "      <td>1.000000</td>\n",
              "      <td>0.008622</td>\n",
              "    </tr>\n",
              "    <tr>\n",
              "      <th>response</th>\n",
              "      <td>0.081239</td>\n",
              "      <td>0.049234</td>\n",
              "      <td>0.108098</td>\n",
              "      <td>-0.091216</td>\n",
              "      <td>-0.028299</td>\n",
              "      <td>-0.317501</td>\n",
              "      <td>-0.115805</td>\n",
              "      <td>-0.014321</td>\n",
              "      <td>-0.009586</td>\n",
              "      <td>0.420519</td>\n",
              "      <td>0.072577</td>\n",
              "      <td>0.036774</td>\n",
              "      <td>0.076995</td>\n",
              "      <td>0.029952</td>\n",
              "      <td>0.342610</td>\n",
              "      <td>-0.094110</td>\n",
              "      <td>-0.152206</td>\n",
              "      <td>0.008622</td>\n",
              "      <td>1.000000</td>\n",
              "    </tr>\n",
              "  </tbody>\n",
              "</table>\n",
              "</div>"
            ],
            "text/plain": [
              "                job   marital  education  ...     pdays  previous  response\n",
              "job        1.000000  0.072746   0.159280  ... -0.110505 -0.000266  0.081239\n",
              "marital    0.072746  1.000000   0.121688  ... -0.011861  0.004536  0.049234\n",
              "education  0.159280  0.121688   1.000000  ... -0.140155  0.000115  0.108098\n",
              "targeted  -0.091197 -0.255247  -0.632513  ...  0.075638 -0.001205 -0.091216\n",
              "default   -0.021012 -0.005632  -0.013682  ...  0.033760  0.012149 -0.028299\n",
              "housing   -0.132378 -0.056963  -0.129804  ...  0.335124  0.008934 -0.317501\n",
              "loan      -0.033500 -0.055435  -0.047718  ...  0.022454  0.016549 -0.115805\n",
              "contact   -0.006279 -0.031866  -0.048456  ...  0.077235  0.043830 -0.014321\n",
              "month     -0.002498 -0.024130  -0.010829  ...  0.022529  0.013977 -0.009586\n",
              "poutcome   0.066642  0.045015   0.082852  ... -0.235119  0.041607  0.420519\n",
              "age       -0.020606 -0.414972  -0.119516  ... -0.107863  0.002280  0.072577\n",
              "salary     0.115271 -0.042212   0.423157  ... -0.106134  0.028427  0.036774\n",
              "balance    0.041975 -0.019767   0.074166  ... -0.108122  0.001570  0.076995\n",
              "day        0.013841  0.016797   0.023542  ... -0.090095 -0.016801  0.029952\n",
              "duration   0.024449 -0.009075  -0.001142  ... -0.024407 -0.002150  0.342610\n",
              "campaign  -0.008764 -0.008338  -0.024343  ...  0.050534  0.135523 -0.094110\n",
              "pdays     -0.110505 -0.011861  -0.140155  ...  1.000000 -0.021885 -0.152206\n",
              "previous  -0.000266  0.004536   0.000115  ... -0.021885  1.000000  0.008622\n",
              "response   0.081239  0.049234   0.108098  ... -0.152206  0.008622  1.000000\n",
              "\n",
              "[19 rows x 19 columns]"
            ]
          },
          "metadata": {
            "tags": []
          },
          "execution_count": 39
        }
      ]
    },
    {
      "cell_type": "code",
      "metadata": {
        "colab": {
          "base_uri": "https://localhost:8080/",
          "height": 326
        },
        "id": "qtkhRLgzZUq0",
        "outputId": "6d763c36-7ac4-40e8-c529-c37458e061ff"
      },
      "source": [
        "cols=df2.columns\r\n",
        "correlations=df2[cols].corr()\r\n",
        "sns.heatmap(correlations)"
      ],
      "execution_count": null,
      "outputs": [
        {
          "output_type": "execute_result",
          "data": {
            "text/plain": [
              "<matplotlib.axes._subplots.AxesSubplot at 0x7fc8f71ebe80>"
            ]
          },
          "metadata": {
            "tags": []
          },
          "execution_count": 35
        },
        {
          "output_type": "display_data",
          "data": {
            "image/png": "[encoded data removed]",
            "text/plain": [
              "<Figure size 432x288 with 2 Axes>"
            ]
          },
          "metadata": {
            "tags": [],
            "needs_background": "light"
          }
        }
      ]
    },
    {
      "cell_type": "markdown",
      "metadata": {
        "id": "Gm0ZkQ7HEbNX"
      },
      "source": [
        "** Predictive model 1: Logistic regression **"
      ]
    },
    {
      "cell_type": "code",
      "metadata": {
        "id": "yBHZVcLJHWzS"
      },
      "source": [
        "from sklearn.model_selection import train_test_split\r\n",
        "from sklearn.model_selection import cross_val_score\r\n",
        "from sklearn.linear_model import LogisticRegression\r\n",
        "from sklearn.metrics import classification_report\r\n",
        "from sklearn.metrics import confusion_matrix\r\n",
        "from sklearn.metrics import f1_score\r\n",
        "import warnings\r\n",
        "warnings.filterwarnings(\"ignore\")"
      ],
      "execution_count": null,
      "outputs": []
    },
    {
      "cell_type": "code",
      "metadata": {
        "id": "rjMtSILyM7q5"
      },
      "source": [
        "X= df2.drop([\"response\"],axis=1)\r\n",
        "Y=df2.response"
      ],
      "execution_count": null,
      "outputs": []
    },
    {
      "cell_type": "code",
      "metadata": {
        "id": "vEJ_OjTNMuTC"
      },
      "source": [
        "\r\n",
        "x_train , x_test , y_train , y_test = train_test_split(X,Y, test_size = 0.3, random_state = 100)"
      ],
      "execution_count": null,
      "outputs": []
    },
    {
      "cell_type": "code",
      "metadata": {
        "id": "mwiRZ1B_HadD"
      },
      "source": [
        "lr = LogisticRegression(random_state=1)\r\n"
      ],
      "execution_count": null,
      "outputs": []
    },
    {
      "cell_type": "code",
      "metadata": {
        "id": "_YyY_3yFIrXc",
        "colab": {
          "base_uri": "https://localhost:8080/"
        },
        "outputId": "987cbfc9-09a6-4d3f-d636-c4d57cf86de6"
      },
      "source": [
        "lr.fit(x_train,y_train)"
      ],
      "execution_count": null,
      "outputs": [
        {
          "output_type": "execute_result",
          "data": {
            "text/plain": [
              "LogisticRegression(C=1.0, class_weight=None, dual=False, fit_intercept=True,\n",
              "                   intercept_scaling=1, l1_ratio=None, max_iter=100,\n",
              "                   multi_class='auto', n_jobs=None, penalty='l2',\n",
              "                   random_state=1, solver='lbfgs', tol=0.0001, verbose=0,\n",
              "                   warm_start=False)"
            ]
          },
          "metadata": {
            "tags": []
          },
          "execution_count": 178
        }
      ]
    },
    {
      "cell_type": "markdown",
      "metadata": {
        "id": "X6olOUI2qmtr"
      },
      "source": [
        "cross validation score"
      ]
    },
    {
      "cell_type": "code",
      "metadata": {
        "colab": {
          "base_uri": "https://localhost:8080/"
        },
        "id": "Uh8jw6bfc349",
        "outputId": "0da1541a-c3eb-4b2a-a97d-2909709f9509"
      },
      "source": [
        "cv_score= cross_val_score(lr,x_train,y_train, cv=5)\r\n",
        "np.mean(cv_score)*100"
      ],
      "execution_count": null,
      "outputs": [
        {
          "output_type": "execute_result",
          "data": {
            "text/plain": [
              "78.40458964334397"
            ]
          },
          "metadata": {
            "tags": []
          },
          "execution_count": 46
        }
      ]
    },
    {
      "cell_type": "markdown",
      "metadata": {
        "id": "soUOfzCSrf-T"
      },
      "source": [
        "prediction"
      ]
    },
    {
      "cell_type": "code",
      "metadata": {
        "id": "sVPNsQjifMgo"
      },
      "source": [
        "\r\n",
        "y_pred = lr.predict(x_test)"
      ],
      "execution_count": null,
      "outputs": []
    },
    {
      "cell_type": "code",
      "metadata": {
        "colab": {
          "base_uri": "https://localhost:8080/"
        },
        "id": "Iy3cHRV4fSE4",
        "outputId": "f6652562-d2ef-4075-d020-15c1482dc1cb"
      },
      "source": [
        "\r\n",
        "lr.score(x_test,y_test) "
      ],
      "execution_count": null,
      "outputs": [
        {
          "output_type": "execute_result",
          "data": {
            "text/plain": [
              "0.7679580306698951"
            ]
          },
          "metadata": {
            "tags": []
          },
          "execution_count": 177
        }
      ]
    },
    {
      "cell_type": "markdown",
      "metadata": {
        "id": "KA9xSwKGsAvq"
      },
      "source": [
        "confusion matrix"
      ]
    },
    {
      "cell_type": "code",
      "metadata": {
        "colab": {
          "base_uri": "https://localhost:8080/"
        },
        "id": "XvVEoXuUgWVp",
        "outputId": "70644755-e3d3-481b-86e3-7cc9db602438"
      },
      "source": [
        "\r\n",
        "confusion_matrix(y_pred,y_test)"
      ],
      "execution_count": null,
      "outputs": [
        {
          "output_type": "execute_result",
          "data": {
            "text/plain": [
              "array([[1801,  493],\n",
              "       [  82,  102]])"
            ]
          },
          "metadata": {
            "tags": []
          },
          "execution_count": 85
        }
      ]
    },
    {
      "cell_type": "markdown",
      "metadata": {
        "id": "rpFDLdnWsfGD"
      },
      "source": [
        "classification report"
      ]
    },
    {
      "cell_type": "code",
      "metadata": {
        "colab": {
          "base_uri": "https://localhost:8080/"
        },
        "id": "ck4q7iXagdnw",
        "outputId": "71941eba-3e71-4554-ef13-d004de1e2f8a"
      },
      "source": [
        "print(classification_report(y_test, y_pred))"
      ],
      "execution_count": null,
      "outputs": [
        {
          "output_type": "stream",
          "text": [
            "              precision    recall  f1-score   support\n",
            "\n",
            "           0       0.79      0.96      0.86      1883\n",
            "           1       0.55      0.17      0.26       595\n",
            "\n",
            "    accuracy                           0.77      2478\n",
            "   macro avg       0.67      0.56      0.56      2478\n",
            "weighted avg       0.73      0.77      0.72      2478\n",
            "\n"
          ],
          "name": "stdout"
        }
      ]
    },
    {
      "cell_type": "markdown",
      "metadata": {
        "id": "b5WyVmnKhEYt"
      },
      "source": [
        "**Using RFE and fitting it into model** "
      ]
    },
    {
      "cell_type": "code",
      "metadata": {
        "id": "bVXzzCoZhUsN"
      },
      "source": [
        "from sklearn.feature_selection import RFE\r\n",
        "from sklearn.linear_model import LogisticRegression\r\n",
        "import warnings\r\n",
        "warnings.filterwarnings(\"ignore\")"
      ],
      "execution_count": null,
      "outputs": []
    },
    {
      "cell_type": "code",
      "metadata": {
        "id": "G5m2HNk9kZHh"
      },
      "source": [
        "from sklearn.model_selection import train_test_split\r\n",
        "from sklearn.model_selection import cross_val_score\r\n",
        "from sklearn.linear_model import LogisticRegression\r\n",
        "from sklearn.metrics import classification_report\r\n",
        "from sklearn.metrics import confusion_matrix\r\n",
        "from sklearn.metrics import f1_score\r\n",
        "import sklearn.metrics as metrics\r\n",
        "import warnings\r\n",
        "warnings.filterwarnings(\"ignore\")\r\n",
        "np.random.seed(42)"
      ],
      "execution_count": null,
      "outputs": []
    },
    {
      "cell_type": "code",
      "metadata": {
        "id": "wJiLnFV5ywlL"
      },
      "source": [
        "X= df2.drop([\"response\"],axis=1)\r\n",
        "Y=df2.response"
      ],
      "execution_count": null,
      "outputs": []
    },
    {
      "cell_type": "code",
      "metadata": {
        "id": "5wXfi5qzK1Wh"
      },
      "source": [
        "lm = LogisticRegression()\r\n",
        "lm.fit(x, y)\r\n",
        "\r\n",
        "rfe = RFE(estimator=lm,step=18)                    \r\n",
        "rfe = rfe.fit(X,Y)"
      ],
      "execution_count": null,
      "outputs": []
    },
    {
      "cell_type": "code",
      "metadata": {
        "colab": {
          "base_uri": "https://localhost:8080/"
        },
        "id": "flu07JOeLCIp",
        "outputId": "9d98d5f0-b7b3-429a-ef50-d9d6263ce756"
      },
      "source": [
        "list(zip(x_train.columns,rfe.support_,rfe.ranking_))"
      ],
      "execution_count": null,
      "outputs": [
        {
          "output_type": "execute_result",
          "data": {
            "text/plain": [
              "[('job', False, 2),\n",
              " ('marital', True, 1),\n",
              " ('education', True, 1),\n",
              " ('targeted', True, 1),\n",
              " ('default', True, 1),\n",
              " ('housing', True, 1),\n",
              " ('loan', True, 1),\n",
              " ('contact', True, 1),\n",
              " ('month', False, 4),\n",
              " ('poutcome', True, 1),\n",
              " ('age', False, 3),\n",
              " ('salary', False, 10),\n",
              " ('balance', False, 9),\n",
              " ('day', False, 7),\n",
              " ('duration', False, 5),\n",
              " ('campaign', True, 1),\n",
              " ('pdays', False, 8),\n",
              " ('previous', False, 6)]"
            ]
          },
          "metadata": {
            "tags": []
          },
          "execution_count": 153
        }
      ]
    },
    {
      "cell_type": "code",
      "metadata": {
        "colab": {
          "base_uri": "https://localhost:8080/"
        },
        "id": "l3QVkQShLKRb",
        "outputId": "fee6ab85-70ca-443c-e409-5a1ffc5da938"
      },
      "source": [
        "col = x.columns[rfe.support_]\r\n",
        "col"
      ],
      "execution_count": null,
      "outputs": [
        {
          "output_type": "execute_result",
          "data": {
            "text/plain": [
              "Index(['job', 'marital', 'education', 'targeted', 'default', 'housing', 'loan',\n",
              "       'contact', 'month', 'poutcome', 'age', 'salary', 'balance', 'day',\n",
              "       'duration', 'campaign', 'pdays', 'previous'],\n",
              "      dtype='object')"
            ]
          },
          "metadata": {
            "tags": []
          },
          "execution_count": 156
        }
      ]
    },
    {
      "cell_type": "code",
      "metadata": {
        "id": "c2cN1FdbLwXA"
      },
      "source": [
        "X = x[col]\r\n",
        "Y=df2.response"
      ],
      "execution_count": null,
      "outputs": []
    },
    {
      "cell_type": "code",
      "metadata": {
        "id": "7d-6egBFkbGj"
      },
      "source": [
        "lr1 = LogisticRegression()"
      ],
      "execution_count": null,
      "outputs": []
    },
    {
      "cell_type": "code",
      "metadata": {
        "colab": {
          "base_uri": "https://localhost:8080/"
        },
        "id": "GusoVlhxku8f",
        "outputId": "12b49119-b64f-4cbf-8ced-45b0e94c5164"
      },
      "source": [
        "lr1.fit(X,Y)"
      ],
      "execution_count": null,
      "outputs": [
        {
          "output_type": "execute_result",
          "data": {
            "text/plain": [
              "LogisticRegression(C=1.0, class_weight=None, dual=False, fit_intercept=True,\n",
              "                   intercept_scaling=1, l1_ratio=None, max_iter=100,\n",
              "                   multi_class='auto', n_jobs=None, penalty='l2',\n",
              "                   random_state=None, solver='lbfgs', tol=0.0001, verbose=0,\n",
              "                   warm_start=False)"
            ]
          },
          "metadata": {
            "tags": []
          },
          "execution_count": 160
        }
      ]
    },
    {
      "cell_type": "markdown",
      "metadata": {
        "id": "mWPOauW6s55D"
      },
      "source": [
        "cross validation score"
      ]
    },
    {
      "cell_type": "code",
      "metadata": {
        "colab": {
          "base_uri": "https://localhost:8080/"
        },
        "id": "qYzOVrNPkvkQ",
        "outputId": "ae49a125-eb06-4785-ff79-ee7599e12ef9"
      },
      "source": [
        "\r\n",
        "cv_score= cross_val_score(lr1,X,Y, cv=5)\r\n",
        "np.mean(cv_score)"
      ],
      "execution_count": null,
      "outputs": [
        {
          "output_type": "execute_result",
          "data": {
            "text/plain": [
              "0.7651706427830811"
            ]
          },
          "metadata": {
            "tags": []
          },
          "execution_count": 162
        }
      ]
    },
    {
      "cell_type": "markdown",
      "metadata": {
        "id": "PdT7Pe2utvut"
      },
      "source": [
        "prediction"
      ]
    },
    {
      "cell_type": "code",
      "metadata": {
        "id": "N81VxH81tyuX"
      },
      "source": [
        "y_pred = lr1.predict(X)\r\n"
      ],
      "execution_count": null,
      "outputs": []
    },
    {
      "cell_type": "code",
      "metadata": {
        "colab": {
          "base_uri": "https://localhost:8080/"
        },
        "id": "nnn0IrG00eTj",
        "outputId": "ea19592f-ab96-4ed5-a6cd-c4a879a9549e"
      },
      "source": [
        "lr1.score(X,Y) "
      ],
      "execution_count": null,
      "outputs": [
        {
          "output_type": "execute_result",
          "data": {
            "text/plain": [
              "0.7810342739493763"
            ]
          },
          "metadata": {
            "tags": []
          },
          "execution_count": 165
        }
      ]
    },
    {
      "cell_type": "markdown",
      "metadata": {
        "id": "YjRev4IPwKvq"
      },
      "source": [
        "confusion matrix"
      ]
    },
    {
      "cell_type": "code",
      "metadata": {
        "colab": {
          "base_uri": "https://localhost:8080/"
        },
        "id": "laaZS15nwPdc",
        "outputId": "890c9b16-5667-43f9-ae67-1bdf886bf5c0"
      },
      "source": [
        "confusion_matrix(y_pred,Y)\r\n"
      ],
      "execution_count": null,
      "outputs": [
        {
          "output_type": "execute_result",
          "data": {
            "text/plain": [
              "array([[6084, 1540],\n",
              "       [ 268,  365]])"
            ]
          },
          "metadata": {
            "tags": []
          },
          "execution_count": 166
        }
      ]
    },
    {
      "cell_type": "markdown",
      "metadata": {
        "id": "Jb5m57upxVJq"
      },
      "source": [
        "**classification report**"
      ]
    },
    {
      "cell_type": "code",
      "metadata": {
        "colab": {
          "base_uri": "https://localhost:8080/"
        },
        "id": "BTl_TJvAxeui",
        "outputId": "1401d1f1-3bec-43db-b5b2-2d90c0b00b80"
      },
      "source": [
        "print(classification_report(Y, y_pred))"
      ],
      "execution_count": null,
      "outputs": [
        {
          "output_type": "stream",
          "text": [
            "              precision    recall  f1-score   support\n",
            "\n",
            "           0       0.80      0.96      0.87      6352\n",
            "           1       0.57      0.20      0.30      1905\n",
            "\n",
            "    accuracy                           0.78      8257\n",
            "   macro avg       0.69      0.58      0.58      8257\n",
            "weighted avg       0.75      0.78      0.74      8257\n",
            "\n"
          ],
          "name": "stdout"
        }
      ]
    },
    {
      "cell_type": "markdown",
      "metadata": {
        "id": "eI6yFu257Mof"
      },
      "source": [
        "VIF Calculation"
      ]
    },
    {
      "cell_type": "code",
      "metadata": {
        "colab": {
          "base_uri": "https://localhost:8080/",
          "height": 580
        },
        "id": "mIkUm9Bt7OG3",
        "outputId": "53c6f569-c527-43e4-a66b-4065b83d4ffe"
      },
      "source": [
        "from statsmodels.stats.outliers_influence import variance_inflation_factor\r\n",
        "\r\n",
        "vif = pd.DataFrame()\r\n",
        "X_ = X\r\n",
        "vif['Features'] = X_.columns\r\n",
        "vif['VIF'] = [variance_inflation_factor(X_.values, i) for i in range(X_.shape[1])]\r\n",
        "vif['VIF'] = round(vif['VIF'], 2)\r\n",
        "vif = vif.sort_values(by = \"VIF\", ascending = False)\r\n",
        "vif"
      ],
      "execution_count": null,
      "outputs": [
        {
          "output_type": "execute_result",
          "data": {
            "text/html": [
              "<div>\n",
              "<style scoped>\n",
              "    .dataframe tbody tr th:only-of-type {\n",
              "        vertical-align: middle;\n",
              "    }\n",
              "\n",
              "    .dataframe tbody tr th {\n",
              "        vertical-align: top;\n",
              "    }\n",
              "\n",
              "    .dataframe thead th {\n",
              "        text-align: right;\n",
              "    }\n",
              "</style>\n",
              "<table border=\"1\" class=\"dataframe\">\n",
              "  <thead>\n",
              "    <tr style=\"text-align: right;\">\n",
              "      <th></th>\n",
              "      <th>Features</th>\n",
              "      <th>VIF</th>\n",
              "    </tr>\n",
              "  </thead>\n",
              "  <tbody>\n",
              "    <tr>\n",
              "      <th>10</th>\n",
              "      <td>age</td>\n",
              "      <td>11.76</td>\n",
              "    </tr>\n",
              "    <tr>\n",
              "      <th>3</th>\n",
              "      <td>targeted</td>\n",
              "      <td>6.49</td>\n",
              "    </tr>\n",
              "    <tr>\n",
              "      <th>2</th>\n",
              "      <td>education</td>\n",
              "      <td>6.48</td>\n",
              "    </tr>\n",
              "    <tr>\n",
              "      <th>11</th>\n",
              "      <td>salary</td>\n",
              "      <td>5.35</td>\n",
              "    </tr>\n",
              "    <tr>\n",
              "      <th>16</th>\n",
              "      <td>pdays</td>\n",
              "      <td>5.29</td>\n",
              "    </tr>\n",
              "    <tr>\n",
              "      <th>1</th>\n",
              "      <td>marital</td>\n",
              "      <td>4.39</td>\n",
              "    </tr>\n",
              "    <tr>\n",
              "      <th>13</th>\n",
              "      <td>day</td>\n",
              "      <td>4.08</td>\n",
              "    </tr>\n",
              "    <tr>\n",
              "      <th>8</th>\n",
              "      <td>month</td>\n",
              "      <td>3.62</td>\n",
              "    </tr>\n",
              "    <tr>\n",
              "      <th>5</th>\n",
              "      <td>housing</td>\n",
              "      <td>3.16</td>\n",
              "    </tr>\n",
              "    <tr>\n",
              "      <th>0</th>\n",
              "      <td>job</td>\n",
              "      <td>2.87</td>\n",
              "    </tr>\n",
              "    <tr>\n",
              "      <th>15</th>\n",
              "      <td>campaign</td>\n",
              "      <td>2.79</td>\n",
              "    </tr>\n",
              "    <tr>\n",
              "      <th>14</th>\n",
              "      <td>duration</td>\n",
              "      <td>2.26</td>\n",
              "    </tr>\n",
              "    <tr>\n",
              "      <th>9</th>\n",
              "      <td>poutcome</td>\n",
              "      <td>1.75</td>\n",
              "    </tr>\n",
              "    <tr>\n",
              "      <th>17</th>\n",
              "      <td>previous</td>\n",
              "      <td>1.52</td>\n",
              "    </tr>\n",
              "    <tr>\n",
              "      <th>12</th>\n",
              "      <td>balance</td>\n",
              "      <td>1.31</td>\n",
              "    </tr>\n",
              "    <tr>\n",
              "      <th>6</th>\n",
              "      <td>loan</td>\n",
              "      <td>1.19</td>\n",
              "    </tr>\n",
              "    <tr>\n",
              "      <th>7</th>\n",
              "      <td>contact</td>\n",
              "      <td>1.15</td>\n",
              "    </tr>\n",
              "    <tr>\n",
              "      <th>4</th>\n",
              "      <td>default</td>\n",
              "      <td>1.01</td>\n",
              "    </tr>\n",
              "  </tbody>\n",
              "</table>\n",
              "</div>"
            ],
            "text/plain": [
              "     Features    VIF\n",
              "10        age  11.76\n",
              "3    targeted   6.49\n",
              "2   education   6.48\n",
              "11     salary   5.35\n",
              "16      pdays   5.29\n",
              "1     marital   4.39\n",
              "13        day   4.08\n",
              "8       month   3.62\n",
              "5     housing   3.16\n",
              "0         job   2.87\n",
              "15   campaign   2.79\n",
              "14   duration   2.26\n",
              "9    poutcome   1.75\n",
              "17   previous   1.52\n",
              "12    balance   1.31\n",
              "6        loan   1.19\n",
              "7     contact   1.15\n",
              "4     default   1.01"
            ]
          },
          "metadata": {
            "tags": []
          },
          "execution_count": 123
        }
      ]
    },
    {
      "cell_type": "markdown",
      "metadata": {
        "id": "XIgIwcZd77Z3"
      },
      "source": [
        "Feature Importance"
      ]
    },
    {
      "cell_type": "markdown",
      "metadata": {
        "id": "UgN1xTV57_zW"
      },
      "source": [
        "The important features for this logistic regression classification are:"
      ]
    },
    {
      "cell_type": "markdown",
      "metadata": {
        "id": "Ns6kPpzU8uwH"
      },
      "source": [
        "\r\n",
        "    job\r\n",
        "    marital\r\n",
        "    education\r\n",
        "    targeted\r\n",
        "    default\r\n",
        "    housing\r\n",
        "    loan\r\n",
        "    contact\r\n",
        "    poutcome\r\n",
        "    campaign\r\n"
      ]
    },
    {
      "cell_type": "markdown",
      "metadata": {
        "id": "7PeiIsfF84M_"
      },
      "source": [
        "**Random Forest Classifier **"
      ]
    },
    {
      "cell_type": "markdown",
      "metadata": {
        "id": "fGNFACzJ9AsY"
      },
      "source": [
        "Train-Test Split"
      ]
    },
    {
      "cell_type": "code",
      "metadata": {
        "id": "KCmyZKmg9CEk"
      },
      "source": [
        "x_train1 , x_test1 , y_train1 , y_test1 = train_test_split(X,Y, test_size = 0.3, random_state = 100)"
      ],
      "execution_count": null,
      "outputs": []
    },
    {
      "cell_type": "code",
      "metadata": {
        "id": "jc7PHhGw9dx4"
      },
      "source": [
        "from sklearn.ensemble import RandomForestClassifier\r\n",
        "from sklearn import metrics"
      ],
      "execution_count": null,
      "outputs": []
    },
    {
      "cell_type": "code",
      "metadata": {
        "id": "H_XXJnoz9iyS"
      },
      "source": [
        "clf=RandomForestClassifier(n_estimators=50,max_depth=9)"
      ],
      "execution_count": null,
      "outputs": []
    },
    {
      "cell_type": "markdown",
      "metadata": {
        "id": "TuRa9HIV9oOm"
      },
      "source": [
        "cross validation"
      ]
    },
    {
      "cell_type": "code",
      "metadata": {
        "colab": {
          "base_uri": "https://localhost:8080/"
        },
        "id": "lPhfIPLp9rPm",
        "outputId": "155c513b-f9c2-4502-971e-ee7c431061f9"
      },
      "source": [
        "cv_score= cross_val_score(clf,x_train1,y_train1, cv=8)\r\n",
        "np.mean(cv_score)"
      ],
      "execution_count": null,
      "outputs": [
        {
          "output_type": "execute_result",
          "data": {
            "text/plain": [
              "0.8497984218572201"
            ]
          },
          "metadata": {
            "tags": []
          },
          "execution_count": 172
        }
      ]
    },
    {
      "cell_type": "code",
      "metadata": {
        "colab": {
          "base_uri": "https://localhost:8080/"
        },
        "id": "PbCDXA6E9vwG",
        "outputId": "dc7b50e2-8812-42d0-e964-b2172be95e3a"
      },
      "source": [
        "clf.fit(x_train1,y_train1)"
      ],
      "execution_count": null,
      "outputs": [
        {
          "output_type": "execute_result",
          "data": {
            "text/plain": [
              "RandomForestClassifier(bootstrap=True, ccp_alpha=0.0, class_weight=None,\n",
              "                       criterion='gini', max_depth=9, max_features='auto',\n",
              "                       max_leaf_nodes=None, max_samples=None,\n",
              "                       min_impurity_decrease=0.0, min_impurity_split=None,\n",
              "                       min_samples_leaf=1, min_samples_split=2,\n",
              "                       min_weight_fraction_leaf=0.0, n_estimators=50,\n",
              "                       n_jobs=None, oob_score=False, random_state=None,\n",
              "                       verbose=0, warm_start=False)"
            ]
          },
          "metadata": {
            "tags": []
          },
          "execution_count": 169
        }
      ]
    },
    {
      "cell_type": "markdown",
      "metadata": {
        "id": "l491MaFb-dy_"
      },
      "source": [
        "prediction"
      ]
    },
    {
      "cell_type": "code",
      "metadata": {
        "id": "80lpLQ2P94NE"
      },
      "source": [
        "y_pred1=clf.predict(x_test1)"
      ],
      "execution_count": null,
      "outputs": []
    },
    {
      "cell_type": "code",
      "metadata": {
        "colab": {
          "base_uri": "https://localhost:8080/"
        },
        "id": "QfVt6VMa97l3",
        "outputId": "8d6c092c-6428-44f6-d32b-5069f7a42f36"
      },
      "source": [
        "print(\"Accuracy:\",metrics.accuracy_score(y_test1, y_pred1))"
      ],
      "execution_count": null,
      "outputs": [
        {
          "output_type": "stream",
          "text": [
            "Accuracy: 0.841000807102502\n"
          ],
          "name": "stdout"
        }
      ]
    },
    {
      "cell_type": "markdown",
      "metadata": {
        "id": "mh3_qTnd-nZu"
      },
      "source": [
        "confusion matrix"
      ]
    },
    {
      "cell_type": "code",
      "metadata": {
        "colab": {
          "base_uri": "https://localhost:8080/"
        },
        "id": "kBCoZ7_L-suL",
        "outputId": "0d11e002-db79-4053-c7d8-4198c34fcc49"
      },
      "source": [
        "confusion_matrix(y_test1, y_pred1)"
      ],
      "execution_count": null,
      "outputs": [
        {
          "output_type": "execute_result",
          "data": {
            "text/plain": [
              "array([[1783,  100],\n",
              "       [ 294,  301]])"
            ]
          },
          "metadata": {
            "tags": []
          },
          "execution_count": 174
        }
      ]
    },
    {
      "cell_type": "markdown",
      "metadata": {
        "id": "07xTRq7p-2MN"
      },
      "source": [
        "classification report"
      ]
    },
    {
      "cell_type": "code",
      "metadata": {
        "colab": {
          "base_uri": "https://localhost:8080/"
        },
        "id": "iNLOaGLr-RYb",
        "outputId": "03ae8502-58d7-49fc-88da-a373c03c0aa2"
      },
      "source": [
        "from sklearn.metrics import classification_report\r\n",
        "print(classification_report(y_test1, y_pred1))"
      ],
      "execution_count": null,
      "outputs": [
        {
          "output_type": "stream",
          "text": [
            "              precision    recall  f1-score   support\n",
            "\n",
            "           0       0.86      0.95      0.90      1883\n",
            "           1       0.75      0.51      0.60       595\n",
            "\n",
            "    accuracy                           0.84      2478\n",
            "   macro avg       0.80      0.73      0.75      2478\n",
            "weighted avg       0.83      0.84      0.83      2478\n",
            "\n"
          ],
          "name": "stdout"
        }
      ]
    },
    {
      "cell_type": "markdown",
      "metadata": {
        "id": "GWgNY9QAAEuw"
      },
      "source": [
        "## Compare the performance of the Random Forest and the logistic mode"
      ]
    },
    {
      "cell_type": "markdown",
      "metadata": {
        "id": "TUBoEbH7PuXK"
      },
      "source": [
        "***CONCLUSION**\r\n",
        "\r\n",
        "**After comparing the important features of both Logistic regression and Random Forest. I found that the number of important features are more in Logistic Regression than Random Forest. Although all the important features of Random Forest are the subset of features in Logistic Regression.**"
      ]
    },
    {
      "cell_type": "markdown",
      "metadata": {
        "id": "8B1RPVsIQOwT"
      },
      "source": [
        "After analyzing all the metrics of both the models. I found that Random Forest is more optimal than Logistic Regression."
      ]
    }
  ]
}
